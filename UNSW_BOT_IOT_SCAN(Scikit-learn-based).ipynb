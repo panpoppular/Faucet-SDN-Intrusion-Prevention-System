{
  "nbformat": 4,
  "nbformat_minor": 0,
  "metadata": {
    "kernelspec": {
      "display_name": "Python 3",
      "language": "python",
      "name": "python3"
    },
    "language_info": {
      "codemirror_mode": {
        "name": "ipython",
        "version": 3
      },
      "file_extension": ".py",
      "mimetype": "text/x-python",
      "name": "python",
      "nbconvert_exporter": "python",
      "pygments_lexer": "ipython3",
      "version": "3.7.4"
    },
    "colab": {
      "name": "UNSW-BOT_IOT-SCAN",
      "provenance": [],
      "collapsed_sections": []
    }
  },
  "cells": [
    {
      "cell_type": "code",
      "metadata": {
        "id": "4Aad3g7gArjF",
        "colab_type": "code",
        "colab": {}
      },
      "source": [
        "import pandas as pd\n",
        "import numpy as np\n",
        "import matplotlib.pyplot as plt\n",
        "import seaborn as sns\n",
        "import xgboost as xgb"
      ],
      "execution_count": 0,
      "outputs": []
    },
    {
      "cell_type": "code",
      "metadata": {
        "id": "1ZnLXWKWAs2f",
        "colab_type": "code",
        "outputId": "2bc415a0-b5d1-4f8e-dc2e-dc99a1a8b43d",
        "colab": {
          "base_uri": "https://localhost:8080/",
          "height": 34
        }
      },
      "source": [
        "from google.colab import drive\n",
        "drive.mount('/content/drive')"
      ],
      "execution_count": 0,
      "outputs": [
        {
          "output_type": "stream",
          "text": [
            "Drive already mounted at /content/drive; to attempt to forcibly remount, call drive.mount(\"/content/drive\", force_remount=True).\n"
          ],
          "name": "stdout"
        }
      ]
    },
    {
      "cell_type": "code",
      "metadata": {
        "id": "D6sbRqaIxa0a",
        "colab_type": "code",
        "outputId": "82664541-cdff-4097-a5ab-77ae47a9d0cd",
        "colab": {
          "base_uri": "https://localhost:8080/",
          "height": 51
        }
      },
      "source": [
        "data = pd.read_csv(\"./drive/My Drive/Datasets/UNSW-Specific/Service_Scan.csv\",sep=';',float_precision='high')"
      ],
      "execution_count": 0,
      "outputs": [
        {
          "output_type": "stream",
          "text": [
            "/usr/local/lib/python3.6/dist-packages/IPython/core/interactiveshell.py:2718: DtypeWarning: Columns (4,7) have mixed types.Specify dtype option on import or set low_memory=False.\n",
            "  interactivity=interactivity, compiler=compiler, result=result)\n"
          ],
          "name": "stderr"
        }
      ]
    },
    {
      "cell_type": "code",
      "metadata": {
        "id": "32RezAyIxqhR",
        "colab_type": "code",
        "colab": {}
      },
      "source": [
        "data.drop(['dir','srcid','smac','dmac','soui','doui','sco','dco','record'],axis=1,inplace=True)"
      ],
      "execution_count": 0,
      "outputs": []
    },
    {
      "cell_type": "code",
      "metadata": {
        "id": "X8sN47tGInaq",
        "colab_type": "code",
        "colab": {}
      },
      "source": [
        "#Fixing python curse of floating numbers\n",
        "data['ltimeSTR'] = round(data['ltime'],0).astype(str)"
      ],
      "execution_count": 0,
      "outputs": []
    },
    {
      "cell_type": "code",
      "metadata": {
        "id": "nUDC3hLXA5e2",
        "colab_type": "code",
        "outputId": "9a37ae3b-8b64-4a72-cc81-64d7892b2a1b",
        "colab": {
          "base_uri": "https://localhost:8080/",
          "height": 221
        }
      },
      "source": [
        "#Finally I found on stackoverflow how to do this thing, spending for whole month (or several months)\n",
        "test = data.iloc[:5000].groupby(['daddr','ltimeSTR'])['bytes'].transform(lambda x:x.rolling(100,1).count())\n",
        "test"
      ],
      "execution_count": 0,
      "outputs": [
        {
          "output_type": "execute_result",
          "data": {
            "text/plain": [
              "0       1\n",
              "1       1\n",
              "2       1\n",
              "3       1\n",
              "4       1\n",
              "       ..\n",
              "4995    1\n",
              "4996    3\n",
              "4997    4\n",
              "4998    1\n",
              "4999    5\n",
              "Name: bytes, Length: 5000, dtype: int64"
            ]
          },
          "metadata": {
            "tags": []
          },
          "execution_count": 101
        }
      ]
    },
    {
      "cell_type": "code",
      "metadata": {
        "id": "nejbEYyAzNKh",
        "colab_type": "code",
        "outputId": "798d280a-7bca-4d68-a376-bdcac1f1ae4f",
        "colab": {
          "base_uri": "https://localhost:8080/",
          "height": 282
        }
      },
      "source": [
        "testp = pd.concat([test,data['attack'].iloc[:5000]],axis=1)\n",
        "testp[testp['attack'] == 1]['bytes'].hist(bins=30)"
      ],
      "execution_count": 0,
      "outputs": [
        {
          "output_type": "execute_result",
          "data": {
            "text/plain": [
              "<matplotlib.axes._subplots.AxesSubplot at 0x7f3e8b9b66d8>"
            ]
          },
          "metadata": {
            "tags": []
          },
          "execution_count": 102
        },
        {
          "output_type": "display_data",
          "data": {
            "image/png": "[encoded data removed]",
            "text/plain": [
              "<Figure size 432x288 with 1 Axes>"
            ]
          },
          "metadata": {
            "tags": [],
            "needs_background": "light"
          }
        }
      ]
    },
    {
      "cell_type": "code",
      "metadata": {
        "id": "AGdBUm7b7QXm",
        "colab_type": "code",
        "colab": {}
      },
      "source": [
        "#generating additional features\n",
        "data['N_IN_Conn_P_SrcIP'] = data.groupby(['saddr','ltimeSTR'])['bytes'].transform(lambda x:x.rolling(100,1).count())\n",
        "data['N_IN_Conn_P_DstIP'] = data.groupby(['daddr','ltimeSTR'])['bytes'].transform(lambda x:x.rolling(100,1).count())\n"
      ],
      "execution_count": 0,
      "outputs": []
    },
    {
      "cell_type": "code",
      "metadata": {
        "id": "wsKDrW2BA5o0",
        "colab_type": "code",
        "outputId": "af99989f-58fb-47ca-8582-50a2d8b5d423",
        "colab": {
          "base_uri": "https://localhost:8080/",
          "height": 224
        }
      },
      "source": [
        "data.head()"
      ],
      "execution_count": 0,
      "outputs": [
        {
          "output_type": "execute_result",
          "data": {
            "text/html": [
              "<div>\n",
              "<style scoped>\n",
              "    .dataframe tbody tr th:only-of-type {\n",
              "        vertical-align: middle;\n",
              "    }\n",
              "\n",
              "    .dataframe tbody tr th {\n",
              "        vertical-align: top;\n",
              "    }\n",
              "\n",
              "    .dataframe thead th {\n",
              "        text-align: right;\n",
              "    }\n",
              "</style>\n",
              "<table border=\"1\" class=\"dataframe\">\n",
              "  <thead>\n",
              "    <tr style=\"text-align: right;\">\n",
              "      <th></th>\n",
              "      <th>stime</th>\n",
              "      <th>flgs</th>\n",
              "      <th>proto</th>\n",
              "      <th>saddr</th>\n",
              "      <th>sport</th>\n",
              "      <th>daddr</th>\n",
              "      <th>dport</th>\n",
              "      <th>pkts</th>\n",
              "      <th>bytes</th>\n",
              "      <th>state</th>\n",
              "      <th>ltime</th>\n",
              "      <th>seq</th>\n",
              "      <th>dur</th>\n",
              "      <th>mean</th>\n",
              "      <th>stddev</th>\n",
              "      <th>sum</th>\n",
              "      <th>min</th>\n",
              "      <th>max</th>\n",
              "      <th>spkts</th>\n",
              "      <th>dpkts</th>\n",
              "      <th>sbytes</th>\n",
              "      <th>dbytes</th>\n",
              "      <th>rate</th>\n",
              "      <th>srate</th>\n",
              "      <th>drate</th>\n",
              "      <th>attack</th>\n",
              "      <th>category</th>\n",
              "      <th>subcategory</th>\n",
              "      <th>ltimeSTR</th>\n",
              "      <th>N_IN_Conn_P_SrcIP</th>\n",
              "      <th>N_IN_Conn_P_DstIP</th>\n",
              "    </tr>\n",
              "  </thead>\n",
              "  <tbody>\n",
              "    <tr>\n",
              "      <th>0</th>\n",
              "      <td>1.526344e+09</td>\n",
              "      <td>e</td>\n",
              "      <td>arp</td>\n",
              "      <td>192.168.100.1</td>\n",
              "      <td>NaN</td>\n",
              "      <td>192.168.100.3</td>\n",
              "      <td>NaN</td>\n",
              "      <td>4</td>\n",
              "      <td>240</td>\n",
              "      <td>CON</td>\n",
              "      <td>1.526345e+09</td>\n",
              "      <td>9</td>\n",
              "      <td>1195.996582</td>\n",
              "      <td>0.000006</td>\n",
              "      <td>0.000002</td>\n",
              "      <td>0.000011</td>\n",
              "      <td>0.000004</td>\n",
              "      <td>0.000007</td>\n",
              "      <td>2</td>\n",
              "      <td>2</td>\n",
              "      <td>120</td>\n",
              "      <td>120</td>\n",
              "      <td>0.002508</td>\n",
              "      <td>0.000836</td>\n",
              "      <td>0.000836</td>\n",
              "      <td>0</td>\n",
              "      <td>Normal</td>\n",
              "      <td>Normal</td>\n",
              "      <td>1526345317.0</td>\n",
              "      <td>1</td>\n",
              "      <td>1</td>\n",
              "    </tr>\n",
              "    <tr>\n",
              "      <th>1</th>\n",
              "      <td>1.526344e+09</td>\n",
              "      <td>e</td>\n",
              "      <td>tcp</td>\n",
              "      <td>192.168.100.7</td>\n",
              "      <td>139</td>\n",
              "      <td>192.168.100.4</td>\n",
              "      <td>36390</td>\n",
              "      <td>10</td>\n",
              "      <td>680</td>\n",
              "      <td>CON</td>\n",
              "      <td>1.526346e+09</td>\n",
              "      <td>10</td>\n",
              "      <td>1453.945923</td>\n",
              "      <td>0.000028</td>\n",
              "      <td>0.000008</td>\n",
              "      <td>0.000138</td>\n",
              "      <td>0.000022</td>\n",
              "      <td>0.000042</td>\n",
              "      <td>5</td>\n",
              "      <td>5</td>\n",
              "      <td>350</td>\n",
              "      <td>330</td>\n",
              "      <td>0.006190</td>\n",
              "      <td>0.002751</td>\n",
              "      <td>0.002751</td>\n",
              "      <td>0</td>\n",
              "      <td>Normal</td>\n",
              "      <td>Normal</td>\n",
              "      <td>1526345677.0</td>\n",
              "      <td>1</td>\n",
              "      <td>1</td>\n",
              "    </tr>\n",
              "    <tr>\n",
              "      <th>2</th>\n",
              "      <td>1.526344e+09</td>\n",
              "      <td>e</td>\n",
              "      <td>udp</td>\n",
              "      <td>192.168.100.149</td>\n",
              "      <td>51838</td>\n",
              "      <td>27.124.125.250</td>\n",
              "      <td>123</td>\n",
              "      <td>2</td>\n",
              "      <td>180</td>\n",
              "      <td>CON</td>\n",
              "      <td>1.526344e+09</td>\n",
              "      <td>11</td>\n",
              "      <td>0.048565</td>\n",
              "      <td>0.048565</td>\n",
              "      <td>0.000000</td>\n",
              "      <td>0.048565</td>\n",
              "      <td>0.048565</td>\n",
              "      <td>0.048565</td>\n",
              "      <td>1</td>\n",
              "      <td>1</td>\n",
              "      <td>90</td>\n",
              "      <td>90</td>\n",
              "      <td>20.590960</td>\n",
              "      <td>0.000000</td>\n",
              "      <td>0.000000</td>\n",
              "      <td>0</td>\n",
              "      <td>Normal</td>\n",
              "      <td>Normal</td>\n",
              "      <td>1526344227.0</td>\n",
              "      <td>1</td>\n",
              "      <td>1</td>\n",
              "    </tr>\n",
              "    <tr>\n",
              "      <th>3</th>\n",
              "      <td>1.526344e+09</td>\n",
              "      <td>e</td>\n",
              "      <td>arp</td>\n",
              "      <td>192.168.100.4</td>\n",
              "      <td>NaN</td>\n",
              "      <td>192.168.100.7</td>\n",
              "      <td>NaN</td>\n",
              "      <td>10</td>\n",
              "      <td>510</td>\n",
              "      <td>CON</td>\n",
              "      <td>1.526346e+09</td>\n",
              "      <td>12</td>\n",
              "      <td>1454.080322</td>\n",
              "      <td>0.000238</td>\n",
              "      <td>0.000022</td>\n",
              "      <td>0.001189</td>\n",
              "      <td>0.000199</td>\n",
              "      <td>0.000261</td>\n",
              "      <td>5</td>\n",
              "      <td>5</td>\n",
              "      <td>210</td>\n",
              "      <td>300</td>\n",
              "      <td>0.006189</td>\n",
              "      <td>0.002751</td>\n",
              "      <td>0.002751</td>\n",
              "      <td>0</td>\n",
              "      <td>Normal</td>\n",
              "      <td>Normal</td>\n",
              "      <td>1526345682.0</td>\n",
              "      <td>1</td>\n",
              "      <td>1</td>\n",
              "    </tr>\n",
              "    <tr>\n",
              "      <th>4</th>\n",
              "      <td>1.526344e+09</td>\n",
              "      <td>e</td>\n",
              "      <td>udp</td>\n",
              "      <td>192.168.100.27</td>\n",
              "      <td>58999</td>\n",
              "      <td>192.168.100.1</td>\n",
              "      <td>53</td>\n",
              "      <td>4</td>\n",
              "      <td>630</td>\n",
              "      <td>CON</td>\n",
              "      <td>1.526345e+09</td>\n",
              "      <td>14</td>\n",
              "      <td>569.933960</td>\n",
              "      <td>0.098505</td>\n",
              "      <td>0.080150</td>\n",
              "      <td>0.197011</td>\n",
              "      <td>0.018356</td>\n",
              "      <td>0.178655</td>\n",
              "      <td>2</td>\n",
              "      <td>2</td>\n",
              "      <td>174</td>\n",
              "      <td>456</td>\n",
              "      <td>0.005264</td>\n",
              "      <td>0.001755</td>\n",
              "      <td>0.001755</td>\n",
              "      <td>0</td>\n",
              "      <td>Normal</td>\n",
              "      <td>Normal</td>\n",
              "      <td>1526344873.0</td>\n",
              "      <td>1</td>\n",
              "      <td>1</td>\n",
              "    </tr>\n",
              "  </tbody>\n",
              "</table>\n",
              "</div>"
            ],
            "text/plain": [
              "          stime flgs proto  ...      ltimeSTR N_IN_Conn_P_SrcIP N_IN_Conn_P_DstIP\n",
              "0  1.526344e+09    e   arp  ...  1526345317.0                 1                 1\n",
              "1  1.526344e+09    e   tcp  ...  1526345677.0                 1                 1\n",
              "2  1.526344e+09    e   udp  ...  1526344227.0                 1                 1\n",
              "3  1.526344e+09    e   arp  ...  1526345682.0                 1                 1\n",
              "4  1.526344e+09    e   udp  ...  1526344873.0                 1                 1\n",
              "\n",
              "[5 rows x 31 columns]"
            ]
          },
          "metadata": {
            "tags": []
          },
          "execution_count": 104
        }
      ]
    },
    {
      "cell_type": "code",
      "metadata": {
        "id": "uB10Sx5KgbMN",
        "colab_type": "code",
        "colab": {}
      },
      "source": [
        "data.drop(['stime','flgs','ltime','pkts','bytes','dur','sum','spkts','dpkts','sbytes','dbytes','rate','category','subcategory','ltimeSTR'],axis=1,inplace=True)"
      ],
      "execution_count": 0,
      "outputs": []
    },
    {
      "cell_type": "code",
      "metadata": {
        "id": "aKQtA64oYy0B",
        "colab_type": "code",
        "colab": {}
      },
      "source": [
        "#StateConverter\n",
        "from collections import defaultdict\n",
        "knownstatemap = {'RST':1,'CON':2,'REQ':3,'INT':4,'URP':5,'FIN':6,'ACC':7,'NRS':8,'ECO':9,'TST':10,'MAS':11}\n",
        "statemap = defaultdict(lambda: \"0\", knownstatemap)\n",
        "data['state']=data['state'].map(statemap)"
      ],
      "execution_count": 0,
      "outputs": []
    },
    {
      "cell_type": "code",
      "metadata": {
        "id": "gKFl-Y_2ArjU",
        "colab_type": "code",
        "outputId": "4c4d2960-a200-4410-9bda-1bb5268b8339",
        "colab": {
          "base_uri": "https://localhost:8080/",
          "height": 341
        }
      },
      "source": [
        "plt.figure(figsize=(8,8))\n",
        "graph1 = sns.scatterplot(x='N_IN_Conn_P_SrcIP', y='N_IN_Conn_P_DstIP',hue='attack',data=data)"
      ],
      "execution_count": 0,
      "outputs": [
        {
          "output_type": "error",
          "ename": "KeyboardInterrupt",
          "evalue": "ignored",
          "traceback": [
            "\u001b[0;31m---------------------------------------------------------------------------\u001b[0m",
            "\u001b[0;31mKeyboardInterrupt\u001b[0m                         Traceback (most recent call last)",
            "\u001b[0;32m<ipython-input-116-c48979687706>\u001b[0m in \u001b[0;36m<module>\u001b[0;34m()\u001b[0m\n\u001b[1;32m      1\u001b[0m \u001b[0mplt\u001b[0m\u001b[0;34m.\u001b[0m\u001b[0mfigure\u001b[0m\u001b[0;34m(\u001b[0m\u001b[0mfigsize\u001b[0m\u001b[0;34m=\u001b[0m\u001b[0;34m(\u001b[0m\u001b[0;36m8\u001b[0m\u001b[0;34m,\u001b[0m\u001b[0;36m8\u001b[0m\u001b[0;34m)\u001b[0m\u001b[0;34m)\u001b[0m\u001b[0;34m\u001b[0m\u001b[0;34m\u001b[0m\u001b[0m\n\u001b[0;32m----> 2\u001b[0;31m \u001b[0mgraph1\u001b[0m \u001b[0;34m=\u001b[0m \u001b[0msns\u001b[0m\u001b[0;34m.\u001b[0m\u001b[0mscatterplot\u001b[0m\u001b[0;34m(\u001b[0m\u001b[0mx\u001b[0m\u001b[0;34m=\u001b[0m\u001b[0;34m'N_IN_Conn_P_SrcIP'\u001b[0m\u001b[0;34m,\u001b[0m \u001b[0my\u001b[0m\u001b[0;34m=\u001b[0m\u001b[0;34m'N_IN_Conn_P_DstIP'\u001b[0m\u001b[0;34m,\u001b[0m\u001b[0mhue\u001b[0m\u001b[0;34m=\u001b[0m\u001b[0;34m'attack'\u001b[0m\u001b[0;34m,\u001b[0m\u001b[0mdata\u001b[0m\u001b[0;34m=\u001b[0m\u001b[0mdata\u001b[0m\u001b[0;34m)\u001b[0m\u001b[0;34m\u001b[0m\u001b[0;34m\u001b[0m\u001b[0m\n\u001b[0m",
            "\u001b[0;32m/usr/local/lib/python3.6/dist-packages/seaborn/relational.py\u001b[0m in \u001b[0;36mscatterplot\u001b[0;34m(x, y, hue, style, size, data, palette, hue_order, hue_norm, sizes, size_order, size_norm, markers, style_order, x_bins, y_bins, units, estimator, ci, n_boot, alpha, x_jitter, y_jitter, legend, ax, **kwargs)\u001b[0m\n\u001b[1;32m   1404\u001b[0m \u001b[0;34m\u001b[0m\u001b[0m\n\u001b[1;32m   1405\u001b[0m     \u001b[0;32mif\u001b[0m \u001b[0max\u001b[0m \u001b[0;32mis\u001b[0m \u001b[0;32mNone\u001b[0m\u001b[0;34m:\u001b[0m\u001b[0;34m\u001b[0m\u001b[0;34m\u001b[0m\u001b[0m\n\u001b[0;32m-> 1406\u001b[0;31m         \u001b[0max\u001b[0m \u001b[0;34m=\u001b[0m \u001b[0mplt\u001b[0m\u001b[0;34m.\u001b[0m\u001b[0mgca\u001b[0m\u001b[0;34m(\u001b[0m\u001b[0;34m)\u001b[0m\u001b[0;34m\u001b[0m\u001b[0;34m\u001b[0m\u001b[0m\n\u001b[0m\u001b[1;32m   1407\u001b[0m \u001b[0;34m\u001b[0m\u001b[0m\n\u001b[1;32m   1408\u001b[0m     \u001b[0mp\u001b[0m\u001b[0;34m.\u001b[0m\u001b[0mplot\u001b[0m\u001b[0;34m(\u001b[0m\u001b[0max\u001b[0m\u001b[0;34m,\u001b[0m \u001b[0mkwargs\u001b[0m\u001b[0;34m)\u001b[0m\u001b[0;34m\u001b[0m\u001b[0;34m\u001b[0m\u001b[0m\n",
            "\u001b[0;32m/usr/local/lib/python3.6/dist-packages/matplotlib/pyplot.py\u001b[0m in \u001b[0;36mgca\u001b[0;34m(**kwargs)\u001b[0m\n\u001b[1;32m    877\u001b[0m     \u001b[0mmatplotlib\u001b[0m\u001b[0;34m.\u001b[0m\u001b[0mfigure\u001b[0m\u001b[0;34m.\u001b[0m\u001b[0mFigure\u001b[0m\u001b[0;34m.\u001b[0m\u001b[0mgca\u001b[0m \u001b[0;34m:\u001b[0m \u001b[0mThe\u001b[0m \u001b[0mfigure\u001b[0m\u001b[0;31m'\u001b[0m\u001b[0ms\u001b[0m \u001b[0mgca\u001b[0m \u001b[0mmethod\u001b[0m\u001b[0;34m.\u001b[0m\u001b[0;34m\u001b[0m\u001b[0;34m\u001b[0m\u001b[0m\n\u001b[1;32m    878\u001b[0m     \"\"\"\n\u001b[0;32m--> 879\u001b[0;31m     \u001b[0;32mreturn\u001b[0m \u001b[0mgcf\u001b[0m\u001b[0;34m(\u001b[0m\u001b[0;34m)\u001b[0m\u001b[0;34m.\u001b[0m\u001b[0mgca\u001b[0m\u001b[0;34m(\u001b[0m\u001b[0;34m**\u001b[0m\u001b[0mkwargs\u001b[0m\u001b[0;34m)\u001b[0m\u001b[0;34m\u001b[0m\u001b[0;34m\u001b[0m\u001b[0m\n\u001b[0m\u001b[1;32m    880\u001b[0m \u001b[0;34m\u001b[0m\u001b[0m\n\u001b[1;32m    881\u001b[0m \u001b[0;34m\u001b[0m\u001b[0m\n",
            "\u001b[0;32m/usr/local/lib/python3.6/dist-packages/matplotlib/figure.py\u001b[0m in \u001b[0;36mgca\u001b[0;34m(self, **kwargs)\u001b[0m\n\u001b[1;32m   1955\u001b[0m \u001b[0;34m\u001b[0m\u001b[0m\n\u001b[1;32m   1956\u001b[0m         \u001b[0;31m# no axes found, so create one which spans the figure\u001b[0m\u001b[0;34m\u001b[0m\u001b[0;34m\u001b[0m\u001b[0;34m\u001b[0m\u001b[0m\n\u001b[0;32m-> 1957\u001b[0;31m         \u001b[0;32mreturn\u001b[0m \u001b[0mself\u001b[0m\u001b[0;34m.\u001b[0m\u001b[0madd_subplot\u001b[0m\u001b[0;34m(\u001b[0m\u001b[0;36m1\u001b[0m\u001b[0;34m,\u001b[0m \u001b[0;36m1\u001b[0m\u001b[0;34m,\u001b[0m \u001b[0;36m1\u001b[0m\u001b[0;34m,\u001b[0m \u001b[0;34m**\u001b[0m\u001b[0mkwargs\u001b[0m\u001b[0;34m)\u001b[0m\u001b[0;34m\u001b[0m\u001b[0;34m\u001b[0m\u001b[0m\n\u001b[0m\u001b[1;32m   1958\u001b[0m \u001b[0;34m\u001b[0m\u001b[0m\n\u001b[1;32m   1959\u001b[0m     \u001b[0;32mdef\u001b[0m \u001b[0msca\u001b[0m\u001b[0;34m(\u001b[0m\u001b[0mself\u001b[0m\u001b[0;34m,\u001b[0m \u001b[0ma\u001b[0m\u001b[0;34m)\u001b[0m\u001b[0;34m:\u001b[0m\u001b[0;34m\u001b[0m\u001b[0;34m\u001b[0m\u001b[0m\n",
            "\u001b[0;32m/usr/local/lib/python3.6/dist-packages/matplotlib/figure.py\u001b[0m in \u001b[0;36madd_subplot\u001b[0;34m(self, *args, **kwargs)\u001b[0m\n\u001b[1;32m   1417\u001b[0m                     \u001b[0mself\u001b[0m\u001b[0;34m.\u001b[0m\u001b[0m_axstack\u001b[0m\u001b[0;34m.\u001b[0m\u001b[0mremove\u001b[0m\u001b[0;34m(\u001b[0m\u001b[0max\u001b[0m\u001b[0;34m)\u001b[0m\u001b[0;34m\u001b[0m\u001b[0;34m\u001b[0m\u001b[0m\n\u001b[1;32m   1418\u001b[0m \u001b[0;34m\u001b[0m\u001b[0m\n\u001b[0;32m-> 1419\u001b[0;31m             \u001b[0ma\u001b[0m \u001b[0;34m=\u001b[0m \u001b[0msubplot_class_factory\u001b[0m\u001b[0;34m(\u001b[0m\u001b[0mprojection_class\u001b[0m\u001b[0;34m)\u001b[0m\u001b[0;34m(\u001b[0m\u001b[0mself\u001b[0m\u001b[0;34m,\u001b[0m \u001b[0;34m*\u001b[0m\u001b[0margs\u001b[0m\u001b[0;34m,\u001b[0m \u001b[0;34m**\u001b[0m\u001b[0mkwargs\u001b[0m\u001b[0;34m)\u001b[0m\u001b[0;34m\u001b[0m\u001b[0;34m\u001b[0m\u001b[0m\n\u001b[0m\u001b[1;32m   1420\u001b[0m \u001b[0;34m\u001b[0m\u001b[0m\n\u001b[1;32m   1421\u001b[0m         \u001b[0;32mreturn\u001b[0m \u001b[0mself\u001b[0m\u001b[0;34m.\u001b[0m\u001b[0m_add_axes_internal\u001b[0m\u001b[0;34m(\u001b[0m\u001b[0mkey\u001b[0m\u001b[0;34m,\u001b[0m \u001b[0ma\u001b[0m\u001b[0;34m)\u001b[0m\u001b[0;34m\u001b[0m\u001b[0;34m\u001b[0m\u001b[0m\n",
            "\u001b[0;32m/usr/local/lib/python3.6/dist-packages/matplotlib/axes/_subplots.py\u001b[0m in \u001b[0;36m__init__\u001b[0;34m(self, fig, *args, **kwargs)\u001b[0m\n\u001b[1;32m     74\u001b[0m \u001b[0;34m\u001b[0m\u001b[0m\n\u001b[1;32m     75\u001b[0m         \u001b[0;31m# _axes_class is set in the subplot_class_factory\u001b[0m\u001b[0;34m\u001b[0m\u001b[0;34m\u001b[0m\u001b[0;34m\u001b[0m\u001b[0m\n\u001b[0;32m---> 76\u001b[0;31m         \u001b[0mself\u001b[0m\u001b[0;34m.\u001b[0m\u001b[0m_axes_class\u001b[0m\u001b[0;34m.\u001b[0m\u001b[0m__init__\u001b[0m\u001b[0;34m(\u001b[0m\u001b[0mself\u001b[0m\u001b[0;34m,\u001b[0m \u001b[0mfig\u001b[0m\u001b[0;34m,\u001b[0m \u001b[0mself\u001b[0m\u001b[0;34m.\u001b[0m\u001b[0mfigbox\u001b[0m\u001b[0;34m,\u001b[0m \u001b[0;34m**\u001b[0m\u001b[0mkwargs\u001b[0m\u001b[0;34m)\u001b[0m\u001b[0;34m\u001b[0m\u001b[0;34m\u001b[0m\u001b[0m\n\u001b[0m\u001b[1;32m     77\u001b[0m         \u001b[0;31m# add a layout box to this, for both the full axis, and the poss\u001b[0m\u001b[0;34m\u001b[0m\u001b[0;34m\u001b[0m\u001b[0;34m\u001b[0m\u001b[0m\n\u001b[1;32m     78\u001b[0m         \u001b[0;31m# of the axis.  We need both because the axes may become smaller\u001b[0m\u001b[0;34m\u001b[0m\u001b[0;34m\u001b[0m\u001b[0;34m\u001b[0m\u001b[0m\n",
            "\u001b[0;32m/usr/local/lib/python3.6/dist-packages/matplotlib/axes/_base.py\u001b[0m in \u001b[0;36m__init__\u001b[0;34m(self, fig, rect, facecolor, frameon, sharex, sharey, label, xscale, yscale, **kwargs)\u001b[0m\n\u001b[1;32m    452\u001b[0m \u001b[0;34m\u001b[0m\u001b[0m\n\u001b[1;32m    453\u001b[0m         \u001b[0mself\u001b[0m\u001b[0;34m.\u001b[0m\u001b[0m_rasterization_zorder\u001b[0m \u001b[0;34m=\u001b[0m \u001b[0;32mNone\u001b[0m\u001b[0;34m\u001b[0m\u001b[0;34m\u001b[0m\u001b[0m\n\u001b[0;32m--> 454\u001b[0;31m         \u001b[0mself\u001b[0m\u001b[0;34m.\u001b[0m\u001b[0mcla\u001b[0m\u001b[0;34m(\u001b[0m\u001b[0;34m)\u001b[0m\u001b[0;34m\u001b[0m\u001b[0;34m\u001b[0m\u001b[0m\n\u001b[0m\u001b[1;32m    455\u001b[0m \u001b[0;34m\u001b[0m\u001b[0m\n\u001b[1;32m    456\u001b[0m         \u001b[0;31m# funcs used to format x and y - fall back on major formatters\u001b[0m\u001b[0;34m\u001b[0m\u001b[0;34m\u001b[0m\u001b[0;34m\u001b[0m\u001b[0m\n",
            "\u001b[0;32m/usr/local/lib/python3.6/dist-packages/matplotlib/axes/_base.py\u001b[0m in \u001b[0;36mcla\u001b[0;34m(self)\u001b[0m\n\u001b[1;32m    966\u001b[0m \u001b[0;34m\u001b[0m\u001b[0m\n\u001b[1;32m    967\u001b[0m         \u001b[0mself\u001b[0m\u001b[0;34m.\u001b[0m\u001b[0mignore_existing_data_limits\u001b[0m \u001b[0;34m=\u001b[0m \u001b[0;32mTrue\u001b[0m\u001b[0;34m\u001b[0m\u001b[0;34m\u001b[0m\u001b[0m\n\u001b[0;32m--> 968\u001b[0;31m         \u001b[0mself\u001b[0m\u001b[0;34m.\u001b[0m\u001b[0mcallbacks\u001b[0m \u001b[0;34m=\u001b[0m \u001b[0mcbook\u001b[0m\u001b[0;34m.\u001b[0m\u001b[0mCallbackRegistry\u001b[0m\u001b[0;34m(\u001b[0m\u001b[0;34m)\u001b[0m\u001b[0;34m\u001b[0m\u001b[0;34m\u001b[0m\u001b[0m\n\u001b[0m\u001b[1;32m    969\u001b[0m \u001b[0;34m\u001b[0m\u001b[0m\n\u001b[1;32m    970\u001b[0m         \u001b[0;32mif\u001b[0m \u001b[0mself\u001b[0m\u001b[0;34m.\u001b[0m\u001b[0m_sharex\u001b[0m \u001b[0;32mis\u001b[0m \u001b[0;32mnot\u001b[0m \u001b[0;32mNone\u001b[0m\u001b[0;34m:\u001b[0m\u001b[0;34m\u001b[0m\u001b[0;34m\u001b[0m\u001b[0m\n",
            "\u001b[0;31mKeyboardInterrupt\u001b[0m: "
          ]
        },
        {
          "output_type": "display_data",
          "data": {
            "text/plain": [
              "<Figure size 576x576 with 0 Axes>"
            ]
          },
          "metadata": {
            "tags": []
          }
        }
      ]
    },
    {
      "cell_type": "code",
      "metadata": {
        "id": "d6KFm6h3W09l",
        "colab_type": "code",
        "colab": {}
      },
      "source": [
        "data = data[['proto', 'saddr', 'sport', 'daddr', 'dport', 'state', 'seq', 'mean', 'stddev', 'min', 'max', 'srate', 'drate', 'N_IN_Conn_P_SrcIP', 'N_IN_Conn_P_DstIP','attack']]"
      ],
      "execution_count": 0,
      "outputs": []
    },
    {
      "cell_type": "code",
      "metadata": {
        "id": "kKKYxuNzZ7mt",
        "colab_type": "code",
        "outputId": "20487b64-553d-40d1-b308-39098934c1fe",
        "colab": {
          "base_uri": "https://localhost:8080/",
          "height": 49
        }
      },
      "source": [
        "data[data.iloc[:,5].isnull() == True]"
      ],
      "execution_count": 0,
      "outputs": [
        {
          "output_type": "execute_result",
          "data": {
            "text/html": [
              "<div>\n",
              "<style scoped>\n",
              "    .dataframe tbody tr th:only-of-type {\n",
              "        vertical-align: middle;\n",
              "    }\n",
              "\n",
              "    .dataframe tbody tr th {\n",
              "        vertical-align: top;\n",
              "    }\n",
              "\n",
              "    .dataframe thead th {\n",
              "        text-align: right;\n",
              "    }\n",
              "</style>\n",
              "<table border=\"1\" class=\"dataframe\">\n",
              "  <thead>\n",
              "    <tr style=\"text-align: right;\">\n",
              "      <th></th>\n",
              "      <th>proto</th>\n",
              "      <th>saddr</th>\n",
              "      <th>sport</th>\n",
              "      <th>daddr</th>\n",
              "      <th>dport</th>\n",
              "      <th>state</th>\n",
              "      <th>seq</th>\n",
              "      <th>mean</th>\n",
              "      <th>stddev</th>\n",
              "      <th>min</th>\n",
              "      <th>max</th>\n",
              "      <th>srate</th>\n",
              "      <th>drate</th>\n",
              "      <th>N_IN_Conn_P_SrcIP</th>\n",
              "      <th>N_IN_Conn_P_DstIP</th>\n",
              "      <th>attack</th>\n",
              "    </tr>\n",
              "  </thead>\n",
              "  <tbody>\n",
              "  </tbody>\n",
              "</table>\n",
              "</div>"
            ],
            "text/plain": [
              "Empty DataFrame\n",
              "Columns: [proto, saddr, sport, daddr, dport, state, seq, mean, stddev, min, max, srate, drate, N_IN_Conn_P_SrcIP, N_IN_Conn_P_DstIP, attack]\n",
              "Index: []"
            ]
          },
          "metadata": {
            "tags": []
          },
          "execution_count": 118
        }
      ]
    },
    {
      "cell_type": "code",
      "metadata": {
        "id": "ypXKCMlyArjZ",
        "colab_type": "code",
        "colab": {}
      },
      "source": [
        "#split train/test Data\n",
        "data['state'].fillna(0,inplace=True)\n",
        "from sklearn.model_selection import train_test_split\n",
        "traindata,testdata = train_test_split(data, train_size=0.7,random_state=7)\n",
        "\n",
        "train_x,train_y = traindata.iloc[:,5:-1],traindata.iloc[:,-1]\n",
        "test_x,test_y = testdata.iloc[:,5:-1],testdata.iloc[:,-1]"
      ],
      "execution_count": 0,
      "outputs": []
    },
    {
      "cell_type": "code",
      "metadata": {
        "id": "pizpO8EiArjc",
        "colab_type": "code",
        "outputId": "0666911c-151c-499a-f030-e157b74e5aef",
        "colab": {
          "base_uri": "https://localhost:8080/",
          "height": 419
        }
      },
      "source": [
        "train_x"
      ],
      "execution_count": 0,
      "outputs": [
        {
          "output_type": "execute_result",
          "data": {
            "text/html": [
              "<div>\n",
              "<style scoped>\n",
              "    .dataframe tbody tr th:only-of-type {\n",
              "        vertical-align: middle;\n",
              "    }\n",
              "\n",
              "    .dataframe tbody tr th {\n",
              "        vertical-align: top;\n",
              "    }\n",
              "\n",
              "    .dataframe thead th {\n",
              "        text-align: right;\n",
              "    }\n",
              "</style>\n",
              "<table border=\"1\" class=\"dataframe\">\n",
              "  <thead>\n",
              "    <tr style=\"text-align: right;\">\n",
              "      <th></th>\n",
              "      <th>state</th>\n",
              "      <th>seq</th>\n",
              "      <th>mean</th>\n",
              "      <th>stddev</th>\n",
              "      <th>min</th>\n",
              "      <th>max</th>\n",
              "      <th>srate</th>\n",
              "      <th>drate</th>\n",
              "      <th>N_IN_Conn_P_SrcIP</th>\n",
              "      <th>N_IN_Conn_P_DstIP</th>\n",
              "    </tr>\n",
              "  </thead>\n",
              "  <tbody>\n",
              "    <tr>\n",
              "      <th>277629</th>\n",
              "      <td>1</td>\n",
              "      <td>120922</td>\n",
              "      <td>0.043418</td>\n",
              "      <td>0.000000</td>\n",
              "      <td>0.043418</td>\n",
              "      <td>0.043418</td>\n",
              "      <td>0.00000</td>\n",
              "      <td>0.000000</td>\n",
              "      <td>100</td>\n",
              "      <td>100</td>\n",
              "    </tr>\n",
              "    <tr>\n",
              "      <th>1179882</th>\n",
              "      <td>1</td>\n",
              "      <td>36106</td>\n",
              "      <td>0.003685</td>\n",
              "      <td>0.000000</td>\n",
              "      <td>0.003685</td>\n",
              "      <td>0.003685</td>\n",
              "      <td>0.00000</td>\n",
              "      <td>0.000000</td>\n",
              "      <td>100</td>\n",
              "      <td>100</td>\n",
              "    </tr>\n",
              "    <tr>\n",
              "      <th>581007</th>\n",
              "      <td>1</td>\n",
              "      <td>81690</td>\n",
              "      <td>0.001937</td>\n",
              "      <td>0.000000</td>\n",
              "      <td>0.001937</td>\n",
              "      <td>0.001937</td>\n",
              "      <td>0.00000</td>\n",
              "      <td>0.000000</td>\n",
              "      <td>100</td>\n",
              "      <td>100</td>\n",
              "    </tr>\n",
              "    <tr>\n",
              "      <th>616050</th>\n",
              "      <td>1</td>\n",
              "      <td>116734</td>\n",
              "      <td>0.020052</td>\n",
              "      <td>0.000000</td>\n",
              "      <td>0.020052</td>\n",
              "      <td>0.020052</td>\n",
              "      <td>0.00000</td>\n",
              "      <td>0.000000</td>\n",
              "      <td>100</td>\n",
              "      <td>100</td>\n",
              "    </tr>\n",
              "    <tr>\n",
              "      <th>1439816</th>\n",
              "      <td>6</td>\n",
              "      <td>294931</td>\n",
              "      <td>0.108059</td>\n",
              "      <td>0.093021</td>\n",
              "      <td>0.015038</td>\n",
              "      <td>0.201081</td>\n",
              "      <td>0.90185</td>\n",
              "      <td>0.601234</td>\n",
              "      <td>13</td>\n",
              "      <td>58</td>\n",
              "    </tr>\n",
              "    <tr>\n",
              "      <th>...</th>\n",
              "      <td>...</td>\n",
              "      <td>...</td>\n",
              "      <td>...</td>\n",
              "      <td>...</td>\n",
              "      <td>...</td>\n",
              "      <td>...</td>\n",
              "      <td>...</td>\n",
              "      <td>...</td>\n",
              "      <td>...</td>\n",
              "      <td>...</td>\n",
              "    </tr>\n",
              "    <tr>\n",
              "      <th>839891</th>\n",
              "      <td>1</td>\n",
              "      <td>20298</td>\n",
              "      <td>0.000545</td>\n",
              "      <td>0.000000</td>\n",
              "      <td>0.000545</td>\n",
              "      <td>0.000545</td>\n",
              "      <td>0.00000</td>\n",
              "      <td>0.000000</td>\n",
              "      <td>100</td>\n",
              "      <td>100</td>\n",
              "    </tr>\n",
              "    <tr>\n",
              "      <th>535030</th>\n",
              "      <td>1</td>\n",
              "      <td>35713</td>\n",
              "      <td>0.001282</td>\n",
              "      <td>0.000000</td>\n",
              "      <td>0.001282</td>\n",
              "      <td>0.001282</td>\n",
              "      <td>0.00000</td>\n",
              "      <td>0.000000</td>\n",
              "      <td>100</td>\n",
              "      <td>100</td>\n",
              "    </tr>\n",
              "    <tr>\n",
              "      <th>573977</th>\n",
              "      <td>1</td>\n",
              "      <td>74660</td>\n",
              "      <td>0.022233</td>\n",
              "      <td>0.000000</td>\n",
              "      <td>0.022233</td>\n",
              "      <td>0.022233</td>\n",
              "      <td>0.00000</td>\n",
              "      <td>0.000000</td>\n",
              "      <td>100</td>\n",
              "      <td>100</td>\n",
              "    </tr>\n",
              "    <tr>\n",
              "      <th>1238212</th>\n",
              "      <td>1</td>\n",
              "      <td>94436</td>\n",
              "      <td>0.009855</td>\n",
              "      <td>0.000000</td>\n",
              "      <td>0.009855</td>\n",
              "      <td>0.009855</td>\n",
              "      <td>0.00000</td>\n",
              "      <td>0.000000</td>\n",
              "      <td>100</td>\n",
              "      <td>100</td>\n",
              "    </tr>\n",
              "    <tr>\n",
              "      <th>585903</th>\n",
              "      <td>1</td>\n",
              "      <td>86586</td>\n",
              "      <td>0.011619</td>\n",
              "      <td>0.000000</td>\n",
              "      <td>0.011619</td>\n",
              "      <td>0.011619</td>\n",
              "      <td>0.00000</td>\n",
              "      <td>0.000000</td>\n",
              "      <td>100</td>\n",
              "      <td>100</td>\n",
              "    </tr>\n",
              "  </tbody>\n",
              "</table>\n",
              "<p>1026267 rows × 10 columns</p>\n",
              "</div>"
            ],
            "text/plain": [
              "        state     seq      mean  ...     drate  N_IN_Conn_P_SrcIP  N_IN_Conn_P_DstIP\n",
              "277629      1  120922  0.043418  ...  0.000000                100                100\n",
              "1179882     1   36106  0.003685  ...  0.000000                100                100\n",
              "581007      1   81690  0.001937  ...  0.000000                100                100\n",
              "616050      1  116734  0.020052  ...  0.000000                100                100\n",
              "1439816     6  294931  0.108059  ...  0.601234                 13                 58\n",
              "...       ...     ...       ...  ...       ...                ...                ...\n",
              "839891      1   20298  0.000545  ...  0.000000                100                100\n",
              "535030      1   35713  0.001282  ...  0.000000                100                100\n",
              "573977      1   74660  0.022233  ...  0.000000                100                100\n",
              "1238212     1   94436  0.009855  ...  0.000000                100                100\n",
              "585903      1   86586  0.011619  ...  0.000000                100                100\n",
              "\n",
              "[1026267 rows x 10 columns]"
            ]
          },
          "metadata": {
            "tags": []
          },
          "execution_count": 120
        }
      ]
    },
    {
      "cell_type": "code",
      "metadata": {
        "id": "bGaaZPz8AO9h",
        "colab_type": "code",
        "outputId": "96b092a9-7107-4e27-c40f-8564eb90318e",
        "colab": {
          "base_uri": "https://localhost:8080/",
          "height": 221
        }
      },
      "source": [
        "train_y"
      ],
      "execution_count": 0,
      "outputs": [
        {
          "output_type": "execute_result",
          "data": {
            "text/plain": [
              "277629     1\n",
              "1179882    1\n",
              "581007     1\n",
              "616050     1\n",
              "1439816    1\n",
              "          ..\n",
              "839891     1\n",
              "535030     1\n",
              "573977     1\n",
              "1238212    1\n",
              "585903     1\n",
              "Name: attack, Length: 1026267, dtype: int64"
            ]
          },
          "metadata": {
            "tags": []
          },
          "execution_count": 112
        }
      ]
    },
    {
      "cell_type": "code",
      "metadata": {
        "id": "68bCaNdXArjg",
        "colab_type": "code",
        "colab": {}
      },
      "source": [
        "from sklearn import preprocessing\n",
        "from imblearn.over_sampling import SMOTE\n",
        "scaler = preprocessing.MinMaxScaler()\n",
        "train_x = scaler.fit_transform(train_x)\n",
        "test_x = scaler.transform(test_x)"
      ],
      "execution_count": 0,
      "outputs": []
    },
    {
      "cell_type": "code",
      "metadata": {
        "id": "PhAyMeLBi5IL",
        "colab_type": "code",
        "outputId": "bde65a75-733a-4a2c-f009-38bf8115c537",
        "colab": {
          "base_uri": "https://localhost:8080/",
          "height": 71
        }
      },
      "source": [
        "#train_x,train_y = SMOTE().fit_resample(train_x, train_y)"
      ],
      "execution_count": 0,
      "outputs": [
        {
          "output_type": "stream",
          "text": [
            "/usr/local/lib/python3.6/dist-packages/sklearn/utils/deprecation.py:87: FutureWarning: Function safe_indexing is deprecated; safe_indexing is deprecated in version 0.22 and will be removed in version 0.24.\n",
            "  warnings.warn(msg, category=FutureWarning)\n"
          ],
          "name": "stderr"
        }
      ]
    },
    {
      "cell_type": "code",
      "metadata": {
        "id": "jkRGLvA3n6g3",
        "colab_type": "code",
        "colab": {}
      },
      "source": [
        "pd.DataFrame(train_x)"
      ],
      "execution_count": 0,
      "outputs": []
    },
    {
      "cell_type": "code",
      "metadata": {
        "id": "kDjjOi2fArjk",
        "colab_type": "code",
        "outputId": "6bf1e08d-10f1-4c7d-df31-111a31496859",
        "colab": {
          "base_uri": "https://localhost:8080/",
          "height": 153
        }
      },
      "source": [
        "#TRAIN!!\n",
        "#from sklearn.naive_bayes import GaussianNB\n",
        "from sklearn.ensemble import RandomForestClassifier\n",
        "model = RandomForestClassifier(max_depth=6, random_state=0,n_estimators=120)\n",
        "model.fit(train_x, train_y)  \n"
      ],
      "execution_count": 0,
      "outputs": [
        {
          "output_type": "execute_result",
          "data": {
            "text/plain": [
              "RandomForestClassifier(bootstrap=True, ccp_alpha=0.0, class_weight=None,\n",
              "                       criterion='gini', max_depth=6, max_features='auto',\n",
              "                       max_leaf_nodes=None, max_samples=None,\n",
              "                       min_impurity_decrease=0.0, min_impurity_split=None,\n",
              "                       min_samples_leaf=1, min_samples_split=2,\n",
              "                       min_weight_fraction_leaf=0.0, n_estimators=120,\n",
              "                       n_jobs=None, oob_score=False, random_state=0, verbose=0,\n",
              "                       warm_start=False)"
            ]
          },
          "metadata": {
            "tags": []
          },
          "execution_count": 122
        }
      ]
    },
    {
      "cell_type": "code",
      "metadata": {
        "id": "Ih447BjDbmiy",
        "colab_type": "code",
        "colab": {}
      },
      "source": [
        "np.where(np.isnan(train_x))"
      ],
      "execution_count": 0,
      "outputs": []
    },
    {
      "cell_type": "code",
      "metadata": {
        "id": "IOJhfPw9b0Fp",
        "colab_type": "code",
        "outputId": "91f4f6f4-e1d3-49bb-8a8d-cd11533141c8",
        "colab": {
          "base_uri": "https://localhost:8080/",
          "height": 34
        }
      },
      "source": [
        "train_x[482970][0]"
      ],
      "execution_count": 0,
      "outputs": [
        {
          "output_type": "execute_result",
          "data": {
            "text/plain": [
              "nan"
            ]
          },
          "metadata": {
            "tags": []
          },
          "execution_count": 44
        }
      ]
    },
    {
      "cell_type": "code",
      "metadata": {
        "id": "IK6xxj39Arjn",
        "colab_type": "code",
        "outputId": "f2d782ac-da33-47c2-a53e-8fa994b94157",
        "colab": {
          "base_uri": "https://localhost:8080/",
          "height": 34
        }
      },
      "source": [
        "%timeit result_y = model.predict([[4.44444444e-01,8.01907438e-03,1.30088278e-05,0.00000000e+00,1.30088278e-05,1.30000026e-05,1.53846152e-02,0.00000000e+00,7.47474747e-01,7.47474747e-01]])"
      ],
      "execution_count": 0,
      "outputs": [
        {
          "output_type": "stream",
          "text": [
            "100 loops, best of 3: 8.62 ms per loop\n"
          ],
          "name": "stdout"
        }
      ]
    },
    {
      "cell_type": "code",
      "metadata": {
        "id": "d8m-stXxO_pE",
        "colab_type": "code",
        "colab": {}
      },
      "source": [
        "%timeit tedddddddddddd = model.predict(test_x)"
      ],
      "execution_count": 0,
      "outputs": []
    },
    {
      "cell_type": "code",
      "metadata": {
        "id": "oQ_1Uq8PYZXZ",
        "colab_type": "code",
        "colab": {}
      },
      "source": [
        "result_yt = model.predict_proba(test_x)"
      ],
      "execution_count": 0,
      "outputs": []
    },
    {
      "cell_type": "code",
      "metadata": {
        "id": "TYof2ul2YziB",
        "colab_type": "code",
        "outputId": "2f67bd95-4307-406b-8c3c-41d70960ccf1",
        "colab": {
          "base_uri": "https://localhost:8080/",
          "height": 34
        }
      },
      "source": [
        "result_yta = np.where(result_yt[:,1] >= 0.99,1,0)\n",
        "result_yta"
      ],
      "execution_count": 0,
      "outputs": [
        {
          "output_type": "execute_result",
          "data": {
            "text/plain": [
              "array([1, 1, 1, ..., 1, 1, 1])"
            ]
          },
          "metadata": {
            "tags": []
          },
          "execution_count": 90
        }
      ]
    },
    {
      "cell_type": "code",
      "metadata": {
        "id": "dR3XJ5hFArjt",
        "colab_type": "code",
        "outputId": "54de0983-7783-4ce6-b3ae-b5f2a3abbc0f",
        "colab": {
          "base_uri": "https://localhost:8080/",
          "height": 68
        }
      },
      "source": [
        "from sklearn import metrics\n",
        "ACR= metrics.accuracy_score(test_y,result_yta)\n",
        "PRC= metrics.precision_score(test_y,result_yta)\n",
        "RCL= metrics.recall_score(test_y,result_yta)\n",
        "print('Accuracy = ' + str(ACR))\n",
        "print('Precision = ' + str(PRC))\n",
        "print('Recall = ' + str(RCL))\n",
        "cm=metrics.confusion_matrix(test_y,result_yta)"
      ],
      "execution_count": 0,
      "outputs": [
        {
          "output_type": "stream",
          "text": [
            "Accuracy = 0.9671600391060182\n",
            "Precision = 0.9999976446979796\n",
            "Recall = 0.9671014268272683\n"
          ],
          "name": "stdout"
        }
      ]
    },
    {
      "cell_type": "code",
      "metadata": {
        "id": "IagdAc_dArjw",
        "colab_type": "code",
        "outputId": "bb9dc190-4b8b-4f13-e5ee-d338af5c2318",
        "colab": {
          "base_uri": "https://localhost:8080/",
          "height": 51
        }
      },
      "source": [
        "cm"
      ],
      "execution_count": 0,
      "outputs": [
        {
          "output_type": "execute_result",
          "data": {
            "text/plain": [
              "array([[   813,      1],\n",
              "       [ 14443, 424573]])"
            ]
          },
          "metadata": {
            "tags": []
          },
          "execution_count": 92
        }
      ]
    },
    {
      "cell_type": "code",
      "metadata": {
        "id": "pX-G6sO3GMzX",
        "colab_type": "code",
        "outputId": "fb7493e7-33f9-4414-f678-3eaab926c320",
        "colab": {
          "base_uri": "https://localhost:8080/",
          "height": 34
        }
      },
      "source": [
        "tupleA = np.sum(test_y==0),np.sum(test_y==1)\n",
        "print(*tupleA)"
      ],
      "execution_count": 0,
      "outputs": [
        {
          "output_type": "stream",
          "text": [
            "814 439016\n"
          ],
          "name": "stdout"
        }
      ]
    },
    {
      "cell_type": "code",
      "metadata": {
        "id": "eWoS6Td1Arj3",
        "colab_type": "code",
        "outputId": "87659613-f440-4d19-e1b0-848c9eb7db5b",
        "colab": {
          "base_uri": "https://localhost:8080/",
          "height": 211
        }
      },
      "source": [
        "plt.figure(figsize=(4,3))\n",
        "cmplot = sns.heatmap(cm, annot=True,fmt=\"d\")"
      ],
      "execution_count": 0,
      "outputs": [
        {
          "output_type": "display_data",
          "data": {
            "image/png": "[encoded data removed]",
            "text/plain": [
              "<Figure size 288x216 with 2 Axes>"
            ]
          },
          "metadata": {
            "tags": [],
            "needs_background": "light"
          }
        }
      ]
    },
    {
      "cell_type": "code",
      "metadata": {
        "id": "rWlyHuWKHhVQ",
        "colab_type": "code",
        "outputId": "45cf6ea8-9eb4-4675-d0f6-5d846e518bd4",
        "colab": {
          "base_uri": "https://localhost:8080/",
          "height": 34
        }
      },
      "source": [
        "import joblib\n",
        "joblib.dump(scaler, 'minmax005.jlb') \n",
        "joblib.dump(model, 'model005.jlb') \n"
      ],
      "execution_count": 0,
      "outputs": [
        {
          "output_type": "execute_result",
          "data": {
            "text/plain": [
              "['model005.jlb']"
            ]
          },
          "metadata": {
            "tags": []
          },
          "execution_count": 94
        }
      ]
    }
  ]
}