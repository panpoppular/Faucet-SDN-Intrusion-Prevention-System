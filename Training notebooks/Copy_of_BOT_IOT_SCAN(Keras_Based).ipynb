{
  "nbformat": 4,
  "nbformat_minor": 0,
  "metadata": {
    "kernelspec": {
      "display_name": "Python 3",
      "language": "python",
      "name": "python3"
    },
    "language_info": {
      "codemirror_mode": {
        "name": "ipython",
        "version": 3
      },
      "file_extension": ".py",
      "mimetype": "text/x-python",
      "name": "python",
      "nbconvert_exporter": "python",
      "pygments_lexer": "ipython3",
      "version": "3.7.4"
    },
    "colab": {
      "name": "Copy of BOT_IOT-SCAN(Keras-Based)",
      "provenance": [],
      "collapsed_sections": [],
      "toc_visible": true,
      "machine_shape": "hm"
    }
  },
  "cells": [
    {
      "cell_type": "code",
      "metadata": {
        "id": "4Aad3g7gArjF",
        "colab_type": "code",
        "colab": {}
      },
      "source": [
        "import pandas as pd\n",
        "import numpy as np\n",
        "import matplotlib.pyplot as plt\n",
        "import seaborn as sns\n",
        "#import xgboost as xgb"
      ],
      "execution_count": 0,
      "outputs": []
    },
    {
      "cell_type": "code",
      "metadata": {
        "id": "1ZnLXWKWAs2f",
        "colab_type": "code",
        "outputId": "245253b7-4e0a-4dc8-82ac-16449f54597e",
        "colab": {
          "base_uri": "https://localhost:8080/",
          "height": 122
        }
      },
      "source": [
        "from google.colab import drive\n",
        "drive.mount('/content/drive')"
      ],
      "execution_count": 0,
      "outputs": [
        {
          "output_type": "stream",
          "text": [
            "Go to this URL in a browser: https://accounts.google.com/o/oauth2/auth?client_id=947318989803-6bn6qk8qdgf4n4g3pfee6491hc0brc4i.apps.googleusercontent.com&redirect_uri=urn%3aietf%3awg%3aoauth%3a2.0%3aoob&response_type=code&scope=email%20https%3a%2f%2fwww.googleapis.com%2fauth%2fdocs.test%20https%3a%2f%2fwww.googleapis.com%2fauth%2fdrive%20https%3a%2f%2fwww.googleapis.com%2fauth%2fdrive.photos.readonly%20https%3a%2f%2fwww.googleapis.com%2fauth%2fpeopleapi.readonly\n",
            "\n",
            "Enter your authorization code:\n",
            "··········\n",
            "Mounted at /content/drive\n"
          ],
          "name": "stdout"
        }
      ]
    },
    {
      "cell_type": "code",
      "metadata": {
        "id": "D6sbRqaIxa0a",
        "colab_type": "code",
        "colab": {}
      },
      "source": [
        "data = pd.read_csv(\"./drive/My Drive/Datasets/UNSW-Specific/DoS_TCP.csv\",sep=';',float_precision='high')"
      ],
      "execution_count": 0,
      "outputs": []
    },
    {
      "cell_type": "code",
      "metadata": {
        "id": "TS_8ST3G6bW-",
        "colab_type": "code",
        "outputId": "f2b6e2b7-7cdf-4420-a686-1cf19ccd7520",
        "colab": {
          "base_uri": "https://localhost:8080/",
          "height": 490
        }
      },
      "source": [
        "data"
      ],
      "execution_count": 0,
      "outputs": [
        {
          "output_type": "execute_result",
          "data": {
            "text/html": [
              "<div>\n",
              "<style scoped>\n",
              "    .dataframe tbody tr th:only-of-type {\n",
              "        vertical-align: middle;\n",
              "    }\n",
              "\n",
              "    .dataframe tbody tr th {\n",
              "        vertical-align: top;\n",
              "    }\n",
              "\n",
              "    .dataframe thead th {\n",
              "        text-align: right;\n",
              "    }\n",
              "</style>\n",
              "<table border=\"1\" class=\"dataframe\">\n",
              "  <thead>\n",
              "    <tr style=\"text-align: right;\">\n",
              "      <th></th>\n",
              "      <th>stime</th>\n",
              "      <th>flgs</th>\n",
              "      <th>proto</th>\n",
              "      <th>saddr</th>\n",
              "      <th>sport</th>\n",
              "      <th>dir</th>\n",
              "      <th>daddr</th>\n",
              "      <th>dport</th>\n",
              "      <th>pkts</th>\n",
              "      <th>bytes</th>\n",
              "      <th>state</th>\n",
              "      <th>srcid</th>\n",
              "      <th>ltime</th>\n",
              "      <th>seq</th>\n",
              "      <th>dur</th>\n",
              "      <th>mean</th>\n",
              "      <th>stddev</th>\n",
              "      <th>smac</th>\n",
              "      <th>dmac</th>\n",
              "      <th>sum</th>\n",
              "      <th>min</th>\n",
              "      <th>max</th>\n",
              "      <th>soui</th>\n",
              "      <th>doui</th>\n",
              "      <th>sco</th>\n",
              "      <th>dco</th>\n",
              "      <th>spkts</th>\n",
              "      <th>dpkts</th>\n",
              "      <th>sbytes</th>\n",
              "      <th>dbytes</th>\n",
              "      <th>rate</th>\n",
              "      <th>srate</th>\n",
              "      <th>drate</th>\n",
              "      <th>record</th>\n",
              "      <th>attack</th>\n",
              "      <th>category</th>\n",
              "      <th>subcategory</th>\n",
              "    </tr>\n",
              "  </thead>\n",
              "  <tbody>\n",
              "    <tr>\n",
              "      <th>0</th>\n",
              "      <td>1.528081e+09</td>\n",
              "      <td>e</td>\n",
              "      <td>udp</td>\n",
              "      <td>192.168.100.46</td>\n",
              "      <td>3456.0</td>\n",
              "      <td>&lt;-&gt;</td>\n",
              "      <td>192.168.100.5</td>\n",
              "      <td>80.0</td>\n",
              "      <td>14710</td>\n",
              "      <td>14308316</td>\n",
              "      <td>CON</td>\n",
              "      <td>0.0.0.0</td>\n",
              "      <td>1.528081e+09</td>\n",
              "      <td>1</td>\n",
              "      <td>91.996368</td>\n",
              "      <td>4.829252</td>\n",
              "      <td>0.683329</td>\n",
              "      <td>NaN</td>\n",
              "      <td>NaN</td>\n",
              "      <td>91.755783</td>\n",
              "      <td>1.930183</td>\n",
              "      <td>4.999841</td>\n",
              "      <td>NaN</td>\n",
              "      <td>NaN</td>\n",
              "      <td>NaN</td>\n",
              "      <td>NaN</td>\n",
              "      <td>7355</td>\n",
              "      <td>7355</td>\n",
              "      <td>6987961</td>\n",
              "      <td>7320355</td>\n",
              "      <td>159.886749</td>\n",
              "      <td>79.937935</td>\n",
              "      <td>79.937935</td>\n",
              "      <td>\u0013\u0010</td>\n",
              "      <td>0</td>\n",
              "      <td>Normal</td>\n",
              "      <td>Normal</td>\n",
              "    </tr>\n",
              "    <tr>\n",
              "      <th>1</th>\n",
              "      <td>1.528081e+09</td>\n",
              "      <td>e *</td>\n",
              "      <td>tcp</td>\n",
              "      <td>192.168.100.55</td>\n",
              "      <td>8080.0</td>\n",
              "      <td>&lt;?&gt;</td>\n",
              "      <td>192.168.100.3</td>\n",
              "      <td>80.0</td>\n",
              "      <td>14710</td>\n",
              "      <td>14335636</td>\n",
              "      <td>CON</td>\n",
              "      <td>0.0.0.0</td>\n",
              "      <td>1.528081e+09</td>\n",
              "      <td>2</td>\n",
              "      <td>91.996353</td>\n",
              "      <td>4.829021</td>\n",
              "      <td>0.683285</td>\n",
              "      <td>NaN</td>\n",
              "      <td>NaN</td>\n",
              "      <td>91.751396</td>\n",
              "      <td>1.930169</td>\n",
              "      <td>4.999833</td>\n",
              "      <td>NaN</td>\n",
              "      <td>NaN</td>\n",
              "      <td>NaN</td>\n",
              "      <td>NaN</td>\n",
              "      <td>7355</td>\n",
              "      <td>7355</td>\n",
              "      <td>7397914</td>\n",
              "      <td>6937722</td>\n",
              "      <td>159.886780</td>\n",
              "      <td>79.937950</td>\n",
              "      <td>79.937950</td>\n",
              "      <td>\u0013\u0010</td>\n",
              "      <td>0</td>\n",
              "      <td>Normal</td>\n",
              "      <td>Normal</td>\n",
              "    </tr>\n",
              "    <tr>\n",
              "      <th>2</th>\n",
              "      <td>1.528081e+09</td>\n",
              "      <td>e</td>\n",
              "      <td>udp</td>\n",
              "      <td>192.168.100.46</td>\n",
              "      <td>80.0</td>\n",
              "      <td>-&gt;</td>\n",
              "      <td>192.168.100.5</td>\n",
              "      <td>80.0</td>\n",
              "      <td>7355</td>\n",
              "      <td>7056880</td>\n",
              "      <td>INT</td>\n",
              "      <td>0.0.0.0</td>\n",
              "      <td>1.528081e+09</td>\n",
              "      <td>3</td>\n",
              "      <td>91.996353</td>\n",
              "      <td>4.826247</td>\n",
              "      <td>0.693380</td>\n",
              "      <td>NaN</td>\n",
              "      <td>NaN</td>\n",
              "      <td>91.698685</td>\n",
              "      <td>1.884608</td>\n",
              "      <td>4.999891</td>\n",
              "      <td>NaN</td>\n",
              "      <td>NaN</td>\n",
              "      <td>NaN</td>\n",
              "      <td>NaN</td>\n",
              "      <td>7355</td>\n",
              "      <td>0</td>\n",
              "      <td>7056880</td>\n",
              "      <td>0</td>\n",
              "      <td>79.937950</td>\n",
              "      <td>79.937950</td>\n",
              "      <td>0.000000</td>\n",
              "      <td>\u0013\u0010</td>\n",
              "      <td>0</td>\n",
              "      <td>Normal</td>\n",
              "      <td>Normal</td>\n",
              "    </tr>\n",
              "    <tr>\n",
              "      <th>3</th>\n",
              "      <td>1.528081e+09</td>\n",
              "      <td>e</td>\n",
              "      <td>tcp</td>\n",
              "      <td>192.168.100.6</td>\n",
              "      <td>80.0</td>\n",
              "      <td>?&gt;</td>\n",
              "      <td>192.168.100.3</td>\n",
              "      <td>80.0</td>\n",
              "      <td>2482</td>\n",
              "      <td>734672</td>\n",
              "      <td>CON</td>\n",
              "      <td>0.0.0.0</td>\n",
              "      <td>1.528081e+09</td>\n",
              "      <td>5</td>\n",
              "      <td>91.971352</td>\n",
              "      <td>4.804359</td>\n",
              "      <td>0.700877</td>\n",
              "      <td>NaN</td>\n",
              "      <td>NaN</td>\n",
              "      <td>91.282822</td>\n",
              "      <td>1.831126</td>\n",
              "      <td>4.998389</td>\n",
              "      <td>NaN</td>\n",
              "      <td>NaN</td>\n",
              "      <td>NaN</td>\n",
              "      <td>NaN</td>\n",
              "      <td>2482</td>\n",
              "      <td>0</td>\n",
              "      <td>734672</td>\n",
              "      <td>0</td>\n",
              "      <td>26.975792</td>\n",
              "      <td>26.975792</td>\n",
              "      <td>0.000000</td>\n",
              "      <td>\u0013\u0010</td>\n",
              "      <td>0</td>\n",
              "      <td>Normal</td>\n",
              "      <td>Normal</td>\n",
              "    </tr>\n",
              "    <tr>\n",
              "      <th>4</th>\n",
              "      <td>1.528081e+09</td>\n",
              "      <td>e</td>\n",
              "      <td>tcp</td>\n",
              "      <td>192.168.100.46</td>\n",
              "      <td>80.0</td>\n",
              "      <td>?&gt;</td>\n",
              "      <td>192.168.100.5</td>\n",
              "      <td>80.0</td>\n",
              "      <td>7355</td>\n",
              "      <td>6885400</td>\n",
              "      <td>CON</td>\n",
              "      <td>0.0.0.0</td>\n",
              "      <td>1.528081e+09</td>\n",
              "      <td>4</td>\n",
              "      <td>91.996353</td>\n",
              "      <td>4.826048</td>\n",
              "      <td>0.693337</td>\n",
              "      <td>NaN</td>\n",
              "      <td>NaN</td>\n",
              "      <td>91.694908</td>\n",
              "      <td>1.884595</td>\n",
              "      <td>4.999897</td>\n",
              "      <td>NaN</td>\n",
              "      <td>NaN</td>\n",
              "      <td>NaN</td>\n",
              "      <td>NaN</td>\n",
              "      <td>7355</td>\n",
              "      <td>0</td>\n",
              "      <td>6885400</td>\n",
              "      <td>0</td>\n",
              "      <td>79.937950</td>\n",
              "      <td>79.937950</td>\n",
              "      <td>0.000000</td>\n",
              "      <td>\u0013\u0010</td>\n",
              "      <td>0</td>\n",
              "      <td>Normal</td>\n",
              "      <td>Normal</td>\n",
              "    </tr>\n",
              "    <tr>\n",
              "      <th>...</th>\n",
              "      <td>...</td>\n",
              "      <td>...</td>\n",
              "      <td>...</td>\n",
              "      <td>...</td>\n",
              "      <td>...</td>\n",
              "      <td>...</td>\n",
              "      <td>...</td>\n",
              "      <td>...</td>\n",
              "      <td>...</td>\n",
              "      <td>...</td>\n",
              "      <td>...</td>\n",
              "      <td>...</td>\n",
              "      <td>...</td>\n",
              "      <td>...</td>\n",
              "      <td>...</td>\n",
              "      <td>...</td>\n",
              "      <td>...</td>\n",
              "      <td>...</td>\n",
              "      <td>...</td>\n",
              "      <td>...</td>\n",
              "      <td>...</td>\n",
              "      <td>...</td>\n",
              "      <td>...</td>\n",
              "      <td>...</td>\n",
              "      <td>...</td>\n",
              "      <td>...</td>\n",
              "      <td>...</td>\n",
              "      <td>...</td>\n",
              "      <td>...</td>\n",
              "      <td>...</td>\n",
              "      <td>...</td>\n",
              "      <td>...</td>\n",
              "      <td>...</td>\n",
              "      <td>...</td>\n",
              "      <td>...</td>\n",
              "      <td>...</td>\n",
              "      <td>...</td>\n",
              "    </tr>\n",
              "    <tr>\n",
              "      <th>12316600</th>\n",
              "      <td>1.528084e+09</td>\n",
              "      <td>e</td>\n",
              "      <td>tcp</td>\n",
              "      <td>192.168.100.5</td>\n",
              "      <td>0.0</td>\n",
              "      <td>?&gt;</td>\n",
              "      <td>192.168.100.3</td>\n",
              "      <td>0.0</td>\n",
              "      <td>2180</td>\n",
              "      <td>1549378</td>\n",
              "      <td>CON</td>\n",
              "      <td>0.0.0.0</td>\n",
              "      <td>1.528084e+09</td>\n",
              "      <td>3</td>\n",
              "      <td>45.416824</td>\n",
              "      <td>4.519526</td>\n",
              "      <td>1.371282</td>\n",
              "      <td>NaN</td>\n",
              "      <td>NaN</td>\n",
              "      <td>45.195259</td>\n",
              "      <td>0.405684</td>\n",
              "      <td>4.977525</td>\n",
              "      <td>NaN</td>\n",
              "      <td>NaN</td>\n",
              "      <td>NaN</td>\n",
              "      <td>NaN</td>\n",
              "      <td>2180</td>\n",
              "      <td>0</td>\n",
              "      <td>1549378</td>\n",
              "      <td>0</td>\n",
              "      <td>47.977814</td>\n",
              "      <td>47.977814</td>\n",
              "      <td>0.000000</td>\n",
              "      <td>\u0013\u0010</td>\n",
              "      <td>0</td>\n",
              "      <td>Normal</td>\n",
              "      <td>Normal</td>\n",
              "    </tr>\n",
              "    <tr>\n",
              "      <th>12316601</th>\n",
              "      <td>1.528084e+09</td>\n",
              "      <td>e</td>\n",
              "      <td>udp</td>\n",
              "      <td>192.168.100.7</td>\n",
              "      <td>365.0</td>\n",
              "      <td>-&gt;</td>\n",
              "      <td>192.168.100.3</td>\n",
              "      <td>565.0</td>\n",
              "      <td>1954</td>\n",
              "      <td>117240</td>\n",
              "      <td>INT</td>\n",
              "      <td>0.0.0.0</td>\n",
              "      <td>1.528084e+09</td>\n",
              "      <td>4</td>\n",
              "      <td>45.416824</td>\n",
              "      <td>4.519826</td>\n",
              "      <td>1.371382</td>\n",
              "      <td>NaN</td>\n",
              "      <td>NaN</td>\n",
              "      <td>45.198265</td>\n",
              "      <td>0.405684</td>\n",
              "      <td>4.979401</td>\n",
              "      <td>NaN</td>\n",
              "      <td>NaN</td>\n",
              "      <td>NaN</td>\n",
              "      <td>NaN</td>\n",
              "      <td>1954</td>\n",
              "      <td>0</td>\n",
              "      <td>117240</td>\n",
              "      <td>0</td>\n",
              "      <td>43.001686</td>\n",
              "      <td>43.001686</td>\n",
              "      <td>0.000000</td>\n",
              "      <td>\u0013\u0010</td>\n",
              "      <td>0</td>\n",
              "      <td>Normal</td>\n",
              "      <td>Normal</td>\n",
              "    </tr>\n",
              "    <tr>\n",
              "      <th>12316602</th>\n",
              "      <td>1.528084e+09</td>\n",
              "      <td>e *</td>\n",
              "      <td>tcp</td>\n",
              "      <td>192.168.100.55</td>\n",
              "      <td>8080.0</td>\n",
              "      <td>&lt;?&gt;</td>\n",
              "      <td>192.168.100.3</td>\n",
              "      <td>80.0</td>\n",
              "      <td>7264</td>\n",
              "      <td>7079417</td>\n",
              "      <td>CON</td>\n",
              "      <td>0.0.0.0</td>\n",
              "      <td>1.528084e+09</td>\n",
              "      <td>5</td>\n",
              "      <td>45.404404</td>\n",
              "      <td>4.529309</td>\n",
              "      <td>1.378675</td>\n",
              "      <td>NaN</td>\n",
              "      <td>NaN</td>\n",
              "      <td>45.293087</td>\n",
              "      <td>0.393286</td>\n",
              "      <td>4.990774</td>\n",
              "      <td>NaN</td>\n",
              "      <td>NaN</td>\n",
              "      <td>NaN</td>\n",
              "      <td>NaN</td>\n",
              "      <td>3632</td>\n",
              "      <td>3632</td>\n",
              "      <td>3654628</td>\n",
              "      <td>3424789</td>\n",
              "      <td>159.962463</td>\n",
              "      <td>79.970215</td>\n",
              "      <td>79.970215</td>\n",
              "      <td>\u0013\u0010</td>\n",
              "      <td>0</td>\n",
              "      <td>Normal</td>\n",
              "      <td>Normal</td>\n",
              "    </tr>\n",
              "    <tr>\n",
              "      <th>12316603</th>\n",
              "      <td>1.528084e+09</td>\n",
              "      <td>e</td>\n",
              "      <td>udp</td>\n",
              "      <td>192.168.100.46</td>\n",
              "      <td>80.0</td>\n",
              "      <td>-&gt;</td>\n",
              "      <td>192.168.100.5</td>\n",
              "      <td>80.0</td>\n",
              "      <td>3632</td>\n",
              "      <td>3482290</td>\n",
              "      <td>INT</td>\n",
              "      <td>0.0.0.0</td>\n",
              "      <td>1.528084e+09</td>\n",
              "      <td>6</td>\n",
              "      <td>45.404404</td>\n",
              "      <td>4.529302</td>\n",
              "      <td>1.378672</td>\n",
              "      <td>NaN</td>\n",
              "      <td>NaN</td>\n",
              "      <td>45.293015</td>\n",
              "      <td>0.393288</td>\n",
              "      <td>4.990774</td>\n",
              "      <td>NaN</td>\n",
              "      <td>NaN</td>\n",
              "      <td>NaN</td>\n",
              "      <td>NaN</td>\n",
              "      <td>3632</td>\n",
              "      <td>0</td>\n",
              "      <td>3482290</td>\n",
              "      <td>0</td>\n",
              "      <td>79.970215</td>\n",
              "      <td>79.970215</td>\n",
              "      <td>0.000000</td>\n",
              "      <td>\u0013\u0010</td>\n",
              "      <td>0</td>\n",
              "      <td>Normal</td>\n",
              "      <td>Normal</td>\n",
              "    </tr>\n",
              "    <tr>\n",
              "      <th>12316604</th>\n",
              "      <td>1.528084e+09</td>\n",
              "      <td>e</td>\n",
              "      <td>tcp</td>\n",
              "      <td>192.168.100.6</td>\n",
              "      <td>80.0</td>\n",
              "      <td>?&gt;</td>\n",
              "      <td>192.168.100.3</td>\n",
              "      <td>80.0</td>\n",
              "      <td>1226</td>\n",
              "      <td>362896</td>\n",
              "      <td>CON</td>\n",
              "      <td>0.0.0.0</td>\n",
              "      <td>1.528084e+09</td>\n",
              "      <td>7</td>\n",
              "      <td>45.377220</td>\n",
              "      <td>4.504482</td>\n",
              "      <td>1.379460</td>\n",
              "      <td>NaN</td>\n",
              "      <td>NaN</td>\n",
              "      <td>45.044823</td>\n",
              "      <td>0.366106</td>\n",
              "      <td>4.965099</td>\n",
              "      <td>NaN</td>\n",
              "      <td>NaN</td>\n",
              "      <td>NaN</td>\n",
              "      <td>NaN</td>\n",
              "      <td>1226</td>\n",
              "      <td>0</td>\n",
              "      <td>362896</td>\n",
              "      <td>0</td>\n",
              "      <td>26.995924</td>\n",
              "      <td>26.995924</td>\n",
              "      <td>0.000000</td>\n",
              "      <td>\u0013\u0010</td>\n",
              "      <td>0</td>\n",
              "      <td>Normal</td>\n",
              "      <td>Normal</td>\n",
              "    </tr>\n",
              "  </tbody>\n",
              "</table>\n",
              "<p>12316605 rows × 37 columns</p>\n",
              "</div>"
            ],
            "text/plain": [
              "                 stime flgs proto  ... attack  category subcategory\n",
              "0         1.528081e+09    e   udp  ...      0    Normal      Normal\n",
              "1         1.528081e+09  e *   tcp  ...      0    Normal      Normal\n",
              "2         1.528081e+09    e   udp  ...      0    Normal      Normal\n",
              "3         1.528081e+09    e   tcp  ...      0    Normal      Normal\n",
              "4         1.528081e+09    e   tcp  ...      0    Normal      Normal\n",
              "...                ...  ...   ...  ...    ...       ...         ...\n",
              "12316600  1.528084e+09    e   tcp  ...      0    Normal      Normal\n",
              "12316601  1.528084e+09    e   udp  ...      0    Normal      Normal\n",
              "12316602  1.528084e+09  e *   tcp  ...      0    Normal      Normal\n",
              "12316603  1.528084e+09    e   udp  ...      0    Normal      Normal\n",
              "12316604  1.528084e+09    e   tcp  ...      0    Normal      Normal\n",
              "\n",
              "[12316605 rows x 37 columns]"
            ]
          },
          "metadata": {
            "tags": []
          },
          "execution_count": 40
        }
      ]
    },
    {
      "cell_type": "code",
      "metadata": {
        "id": "32RezAyIxqhR",
        "colab_type": "code",
        "colab": {}
      },
      "source": [
        "data.drop(['dir','srcid','smac','dmac','soui','doui','sco','dco','record'],axis=1,inplace=True)"
      ],
      "execution_count": 0,
      "outputs": []
    },
    {
      "cell_type": "code",
      "metadata": {
        "id": "Is1mtDoZyUYK",
        "colab_type": "code",
        "colab": {}
      },
      "source": [
        "del data_yr"
      ],
      "execution_count": 0,
      "outputs": []
    },
    {
      "cell_type": "code",
      "metadata": {
        "id": "X8sN47tGInaq",
        "colab_type": "code",
        "colab": {}
      },
      "source": [
        "#Fixing python curse of floating numbers\n",
        "data['ltimeSTR'] = round(data['ltime'],0).astype(str)"
      ],
      "execution_count": 0,
      "outputs": []
    },
    {
      "cell_type": "code",
      "metadata": {
        "id": "nUDC3hLXA5e2",
        "colab_type": "code",
        "outputId": "867d3fb9-932a-4a15-af75-0a0f97ef6d1c",
        "colab": {
          "base_uri": "https://localhost:8080/",
          "height": 221
        }
      },
      "source": [
        "#Finally I found on stackoverflow how to do this thing, spending for whole month (or several months)\n",
        "test = data.iloc[:5000].groupby(['saddr','ltimeSTR'])['bytes'].transform(lambda x:x.rolling(100,1).count())\n",
        "test"
      ],
      "execution_count": 0,
      "outputs": [
        {
          "output_type": "execute_result",
          "data": {
            "text/plain": [
              "0         1\n",
              "1         1\n",
              "2         2\n",
              "3         1\n",
              "4         3\n",
              "       ... \n",
              "4995    100\n",
              "4996    100\n",
              "4997    100\n",
              "4998    100\n",
              "4999    100\n",
              "Name: bytes, Length: 5000, dtype: int64"
            ]
          },
          "metadata": {
            "tags": []
          },
          "execution_count": 8
        }
      ]
    },
    {
      "cell_type": "code",
      "metadata": {
        "id": "AGdBUm7b7QXm",
        "colab_type": "code",
        "colab": {}
      },
      "source": [
        "#generating additional features\n",
        "data['N_IN_Conn_P_SrcIP'] = data.groupby(['saddr','ltimeSTR'])['bytes'].transform(lambda x:x.rolling(100,1).count())\n",
        "data['N_IN_Conn_P_DstIP'] = data.groupby(['daddr','ltimeSTR'])['bytes'].transform(lambda x:x.rolling(100,1).count())\n"
      ],
      "execution_count": 0,
      "outputs": []
    },
    {
      "cell_type": "code",
      "metadata": {
        "id": "wsKDrW2BA5o0",
        "colab_type": "code",
        "outputId": "9c62f1c5-e1be-4a6c-a954-cc6208c5712c",
        "colab": {
          "base_uri": "https://localhost:8080/",
          "height": 224
        }
      },
      "source": [
        "data.head()"
      ],
      "execution_count": 0,
      "outputs": [
        {
          "output_type": "execute_result",
          "data": {
            "text/html": [
              "<div>\n",
              "<style scoped>\n",
              "    .dataframe tbody tr th:only-of-type {\n",
              "        vertical-align: middle;\n",
              "    }\n",
              "\n",
              "    .dataframe tbody tr th {\n",
              "        vertical-align: top;\n",
              "    }\n",
              "\n",
              "    .dataframe thead th {\n",
              "        text-align: right;\n",
              "    }\n",
              "</style>\n",
              "<table border=\"1\" class=\"dataframe\">\n",
              "  <thead>\n",
              "    <tr style=\"text-align: right;\">\n",
              "      <th></th>\n",
              "      <th>stime</th>\n",
              "      <th>flgs</th>\n",
              "      <th>proto</th>\n",
              "      <th>saddr</th>\n",
              "      <th>sport</th>\n",
              "      <th>daddr</th>\n",
              "      <th>dport</th>\n",
              "      <th>pkts</th>\n",
              "      <th>bytes</th>\n",
              "      <th>state</th>\n",
              "      <th>ltime</th>\n",
              "      <th>seq</th>\n",
              "      <th>dur</th>\n",
              "      <th>mean</th>\n",
              "      <th>stddev</th>\n",
              "      <th>sum</th>\n",
              "      <th>min</th>\n",
              "      <th>max</th>\n",
              "      <th>spkts</th>\n",
              "      <th>dpkts</th>\n",
              "      <th>sbytes</th>\n",
              "      <th>dbytes</th>\n",
              "      <th>rate</th>\n",
              "      <th>srate</th>\n",
              "      <th>drate</th>\n",
              "      <th>attack</th>\n",
              "      <th>category</th>\n",
              "      <th>subcategory</th>\n",
              "      <th>ltimeSTR</th>\n",
              "      <th>N_IN_Conn_P_SrcIP</th>\n",
              "      <th>N_IN_Conn_P_DstIP</th>\n",
              "    </tr>\n",
              "  </thead>\n",
              "  <tbody>\n",
              "    <tr>\n",
              "      <th>0</th>\n",
              "      <td>1.528081e+09</td>\n",
              "      <td>e</td>\n",
              "      <td>udp</td>\n",
              "      <td>192.168.100.46</td>\n",
              "      <td>3456.0</td>\n",
              "      <td>192.168.100.5</td>\n",
              "      <td>80.0</td>\n",
              "      <td>14710</td>\n",
              "      <td>14308316</td>\n",
              "      <td>CON</td>\n",
              "      <td>1.528081e+09</td>\n",
              "      <td>1</td>\n",
              "      <td>91.996368</td>\n",
              "      <td>4.829252</td>\n",
              "      <td>0.683329</td>\n",
              "      <td>91.755783</td>\n",
              "      <td>1.930183</td>\n",
              "      <td>4.999841</td>\n",
              "      <td>7355</td>\n",
              "      <td>7355</td>\n",
              "      <td>6987961</td>\n",
              "      <td>7320355</td>\n",
              "      <td>159.886749</td>\n",
              "      <td>79.937935</td>\n",
              "      <td>79.937935</td>\n",
              "      <td>0</td>\n",
              "      <td>Normal</td>\n",
              "      <td>Normal</td>\n",
              "      <td>1528081356.0</td>\n",
              "      <td>1</td>\n",
              "      <td>1</td>\n",
              "    </tr>\n",
              "    <tr>\n",
              "      <th>1</th>\n",
              "      <td>1.528081e+09</td>\n",
              "      <td>e *</td>\n",
              "      <td>tcp</td>\n",
              "      <td>192.168.100.55</td>\n",
              "      <td>8080.0</td>\n",
              "      <td>192.168.100.3</td>\n",
              "      <td>80.0</td>\n",
              "      <td>14710</td>\n",
              "      <td>14335636</td>\n",
              "      <td>CON</td>\n",
              "      <td>1.528081e+09</td>\n",
              "      <td>2</td>\n",
              "      <td>91.996353</td>\n",
              "      <td>4.829021</td>\n",
              "      <td>0.683285</td>\n",
              "      <td>91.751396</td>\n",
              "      <td>1.930169</td>\n",
              "      <td>4.999833</td>\n",
              "      <td>7355</td>\n",
              "      <td>7355</td>\n",
              "      <td>7397914</td>\n",
              "      <td>6937722</td>\n",
              "      <td>159.886780</td>\n",
              "      <td>79.937950</td>\n",
              "      <td>79.937950</td>\n",
              "      <td>0</td>\n",
              "      <td>Normal</td>\n",
              "      <td>Normal</td>\n",
              "      <td>1528081356.0</td>\n",
              "      <td>1</td>\n",
              "      <td>1</td>\n",
              "    </tr>\n",
              "    <tr>\n",
              "      <th>2</th>\n",
              "      <td>1.528081e+09</td>\n",
              "      <td>e</td>\n",
              "      <td>udp</td>\n",
              "      <td>192.168.100.46</td>\n",
              "      <td>80.0</td>\n",
              "      <td>192.168.100.5</td>\n",
              "      <td>80.0</td>\n",
              "      <td>7355</td>\n",
              "      <td>7056880</td>\n",
              "      <td>INT</td>\n",
              "      <td>1.528081e+09</td>\n",
              "      <td>3</td>\n",
              "      <td>91.996353</td>\n",
              "      <td>4.826247</td>\n",
              "      <td>0.693380</td>\n",
              "      <td>91.698685</td>\n",
              "      <td>1.884608</td>\n",
              "      <td>4.999891</td>\n",
              "      <td>7355</td>\n",
              "      <td>0</td>\n",
              "      <td>7056880</td>\n",
              "      <td>0</td>\n",
              "      <td>79.937950</td>\n",
              "      <td>79.937950</td>\n",
              "      <td>0.000000</td>\n",
              "      <td>0</td>\n",
              "      <td>Normal</td>\n",
              "      <td>Normal</td>\n",
              "      <td>1528081356.0</td>\n",
              "      <td>2</td>\n",
              "      <td>2</td>\n",
              "    </tr>\n",
              "    <tr>\n",
              "      <th>3</th>\n",
              "      <td>1.528081e+09</td>\n",
              "      <td>e</td>\n",
              "      <td>tcp</td>\n",
              "      <td>192.168.100.6</td>\n",
              "      <td>80.0</td>\n",
              "      <td>192.168.100.3</td>\n",
              "      <td>80.0</td>\n",
              "      <td>2482</td>\n",
              "      <td>734672</td>\n",
              "      <td>CON</td>\n",
              "      <td>1.528081e+09</td>\n",
              "      <td>5</td>\n",
              "      <td>91.971352</td>\n",
              "      <td>4.804359</td>\n",
              "      <td>0.700877</td>\n",
              "      <td>91.282822</td>\n",
              "      <td>1.831126</td>\n",
              "      <td>4.998389</td>\n",
              "      <td>2482</td>\n",
              "      <td>0</td>\n",
              "      <td>734672</td>\n",
              "      <td>0</td>\n",
              "      <td>26.975792</td>\n",
              "      <td>26.975792</td>\n",
              "      <td>0.000000</td>\n",
              "      <td>0</td>\n",
              "      <td>Normal</td>\n",
              "      <td>Normal</td>\n",
              "      <td>1528081356.0</td>\n",
              "      <td>1</td>\n",
              "      <td>2</td>\n",
              "    </tr>\n",
              "    <tr>\n",
              "      <th>4</th>\n",
              "      <td>1.528081e+09</td>\n",
              "      <td>e</td>\n",
              "      <td>tcp</td>\n",
              "      <td>192.168.100.46</td>\n",
              "      <td>80.0</td>\n",
              "      <td>192.168.100.5</td>\n",
              "      <td>80.0</td>\n",
              "      <td>7355</td>\n",
              "      <td>6885400</td>\n",
              "      <td>CON</td>\n",
              "      <td>1.528081e+09</td>\n",
              "      <td>4</td>\n",
              "      <td>91.996353</td>\n",
              "      <td>4.826048</td>\n",
              "      <td>0.693337</td>\n",
              "      <td>91.694908</td>\n",
              "      <td>1.884595</td>\n",
              "      <td>4.999897</td>\n",
              "      <td>7355</td>\n",
              "      <td>0</td>\n",
              "      <td>6885400</td>\n",
              "      <td>0</td>\n",
              "      <td>79.937950</td>\n",
              "      <td>79.937950</td>\n",
              "      <td>0.000000</td>\n",
              "      <td>0</td>\n",
              "      <td>Normal</td>\n",
              "      <td>Normal</td>\n",
              "      <td>1528081356.0</td>\n",
              "      <td>3</td>\n",
              "      <td>3</td>\n",
              "    </tr>\n",
              "  </tbody>\n",
              "</table>\n",
              "</div>"
            ],
            "text/plain": [
              "          stime flgs proto  ...      ltimeSTR  N_IN_Conn_P_SrcIP N_IN_Conn_P_DstIP\n",
              "0  1.528081e+09    e   udp  ...  1528081356.0                  1                 1\n",
              "1  1.528081e+09  e *   tcp  ...  1528081356.0                  1                 1\n",
              "2  1.528081e+09    e   udp  ...  1528081356.0                  2                 2\n",
              "3  1.528081e+09    e   tcp  ...  1528081356.0                  1                 2\n",
              "4  1.528081e+09    e   tcp  ...  1528081356.0                  3                 3\n",
              "\n",
              "[5 rows x 31 columns]"
            ]
          },
          "metadata": {
            "tags": []
          },
          "execution_count": 10
        }
      ]
    },
    {
      "cell_type": "code",
      "metadata": {
        "id": "IizulTJFtpWZ",
        "colab_type": "code",
        "colab": {}
      },
      "source": [
        "#caching Test\n",
        "data.to_pickle(\"./drive/My Drive/Datasets/UNSW-Specific/Cache/DoS_Tcp.pkl\")"
      ],
      "execution_count": 0,
      "outputs": []
    },
    {
      "cell_type": "code",
      "metadata": {
        "id": "0r9ql8H9uAUj",
        "colab_type": "code",
        "colab": {}
      },
      "source": [
        "#loading cache test\n",
        "data = pd.read_pickle(\"./drive/My Drive/Datasets/UNSW-Specific/Cache/Service_Scan.pkl\")"
      ],
      "execution_count": 0,
      "outputs": []
    },
    {
      "cell_type": "code",
      "metadata": {
        "id": "uB10Sx5KgbMN",
        "colab_type": "code",
        "colab": {}
      },
      "source": [
        "data.drop(['stime','flgs','ltime','pkts','bytes','dur','sum','spkts','dpkts','sbytes','dbytes','rate','category','subcategory','ltimeSTR'],axis=1,inplace=True)"
      ],
      "execution_count": 0,
      "outputs": []
    },
    {
      "cell_type": "code",
      "metadata": {
        "id": "aKQtA64oYy0B",
        "colab_type": "code",
        "colab": {}
      },
      "source": [
        "#StateConverter\n",
        "from collections import defaultdict\n",
        "knownstatemap = {'RST':1,'CON':2,'REQ':3,'INT':4,'URP':5,'FIN':6,'ACC':7,'NRS':8,'ECO':9,'TST':10,'MAS':11}\n",
        "statemap = defaultdict(lambda: \"0\", knownstatemap)\n",
        "data['state']=data['state'].map(statemap)"
      ],
      "execution_count": 0,
      "outputs": []
    },
    {
      "cell_type": "code",
      "metadata": {
        "id": "d6KFm6h3W09l",
        "colab_type": "code",
        "colab": {}
      },
      "source": [
        "data = data[['proto', 'saddr', 'sport', 'daddr', 'dport', 'state', 'seq', 'mean', 'stddev', 'min', 'max', 'srate', 'drate', 'N_IN_Conn_P_SrcIP', 'N_IN_Conn_P_DstIP','attack']]"
      ],
      "execution_count": 0,
      "outputs": []
    },
    {
      "cell_type": "code",
      "metadata": {
        "id": "ZJpTUSsuI09q",
        "colab_type": "code",
        "colab": {}
      },
      "source": [
        "data.drop(['seq','stddev'],axis=1,inplace=True)#get rid of useless features"
      ],
      "execution_count": 0,
      "outputs": []
    },
    {
      "cell_type": "code",
      "metadata": {
        "id": "kKKYxuNzZ7mt",
        "colab_type": "code",
        "outputId": "66f58563-5772-42d9-ea02-7e41c68a5d6d",
        "colab": {
          "base_uri": "https://localhost:8080/",
          "height": 51
        }
      },
      "source": [
        "#Oversampling data\n",
        "data_x,data_y = data.iloc[:,5:-1],data.iloc[:,-1]\n",
        "\n",
        "from imblearn.over_sampling import RandomOverSampler\n",
        "ros = RandomOverSampler(random_state=0)\n",
        "data_xr,data_yr = ros.fit_resample(data_x,data_y)"
      ],
      "execution_count": 0,
      "outputs": [
        {
          "output_type": "stream",
          "text": [
            "/usr/local/lib/python3.6/dist-packages/sklearn/utils/deprecation.py:87: FutureWarning: Function safe_indexing is deprecated; safe_indexing is deprecated in version 0.22 and will be removed in version 0.24.\n",
            "  warnings.warn(msg, category=FutureWarning)\n"
          ],
          "name": "stderr"
        }
      ]
    },
    {
      "cell_type": "code",
      "metadata": {
        "id": "ypXKCMlyArjZ",
        "colab_type": "code",
        "colab": {}
      },
      "source": [
        "#split train/test Data\n",
        "from sklearn.model_selection import train_test_split\n",
        "train_x,test_x,train_y,test_y = train_test_split(data_xr,data_yr, train_size=0.75,random_state=5)"
      ],
      "execution_count": 0,
      "outputs": []
    },
    {
      "cell_type": "code",
      "metadata": {
        "id": "xtFnh1Qa1nsQ",
        "colab_type": "code",
        "outputId": "05a6802d-3b3f-4e02-93a8-f89bb3869925",
        "colab": {
          "base_uri": "https://localhost:8080/",
          "height": 136
        }
      },
      "source": [
        "test_x"
      ],
      "execution_count": 0,
      "outputs": [
        {
          "output_type": "execute_result",
          "data": {
            "text/plain": [
              "array([[2, 0.000138, 0.000138, ..., 0.0, 1, 1],\n",
              "       [2, 0.007323, 0.007323, ..., 0.0, 1, 1],\n",
              "       [4, 0.0, 0.0, ..., 0.0, 1, 1],\n",
              "       ...,\n",
              "       [1, 0.000841, 0.000841, ..., 0.0, 100, 100],\n",
              "       [1, 2.1e-05, 2.1e-05, ..., 0.0, 1, 3],\n",
              "       [2, 4.947291, 1.348159, ..., 20.161507, 3, 3]], dtype=object)"
            ]
          },
          "metadata": {
            "tags": []
          },
          "execution_count": 74
        }
      ]
    },
    {
      "cell_type": "code",
      "metadata": {
        "id": "68bCaNdXArjg",
        "colab_type": "code",
        "colab": {}
      },
      "source": [
        "from sklearn import preprocessing\n",
        "from imblearn.over_sampling import SMOTE\n",
        "scaler = preprocessing.MinMaxScaler()\n",
        "train_x = scaler.fit_transform(train_x)\n",
        "test_x = scaler.transform(test_x)"
      ],
      "execution_count": 0,
      "outputs": []
    },
    {
      "cell_type": "code",
      "metadata": {
        "id": "PhAyMeLBi5IL",
        "colab_type": "code",
        "outputId": "bde65a75-733a-4a2c-f009-38bf8115c537",
        "colab": {
          "base_uri": "https://localhost:8080/",
          "height": 71
        }
      },
      "source": [
        "#train_x,train_y = SMOTE().fit_resample(train_x, train_y)"
      ],
      "execution_count": 0,
      "outputs": [
        {
          "output_type": "stream",
          "text": [
            "/usr/local/lib/python3.6/dist-packages/sklearn/utils/deprecation.py:87: FutureWarning: Function safe_indexing is deprecated; safe_indexing is deprecated in version 0.22 and will be removed in version 0.24.\n",
            "  warnings.warn(msg, category=FutureWarning)\n"
          ],
          "name": "stderr"
        }
      ]
    },
    {
      "cell_type": "code",
      "metadata": {
        "id": "kDjjOi2fArjk",
        "colab_type": "code",
        "colab": {}
      },
      "source": [
        "#TRAIN!!\n",
        "#from sklearn.naive_bayes import GaussianNB\n",
        "#from sklearn.ensemble import RandomForestClassifier\n",
        "#model = RandomForestClassifier(max_depth=6, random_state=0,n_estimators=120)\n",
        "#model.fit(train_x, train_y)  \n"
      ],
      "execution_count": 0,
      "outputs": []
    },
    {
      "cell_type": "code",
      "metadata": {
        "id": "zJT0P1pYCByn",
        "colab_type": "code",
        "outputId": "7cddbe1a-ce24-47bb-f5be-331232ee947b",
        "colab": {
          "base_uri": "https://localhost:8080/",
          "height": 170
        }
      },
      "source": [
        "#TRAIN!!\n",
        "from keras.models import Sequential\n",
        "from keras.layers import Dense\n",
        "model = Sequential()\n",
        "model.add(Dense(8, input_dim=8, activation='relu'))\n",
        "model.add(Dense(30, activation='relu'))\n",
        "model.add(Dense(40, activation='relu'))\n",
        "model.add(Dense(50, activation='relu'))\n",
        "model.add(Dense(60, activation='relu'))\n",
        "model.add(Dense(70, activation='relu'))\n",
        "model.add(Dense(80, activation='relu'))\n",
        "model.add(Dense(90, activation='relu'))\n",
        "model.add(Dense(1, activation='sigmoid'))\n",
        "model.compile(optimizer='adam',\n",
        "              loss='binary_crossentropy',\n",
        "              metrics=['accuracy'])\n",
        "\n",
        "model.fit(train_x, train_y, epochs=4, batch_size=100)"
      ],
      "execution_count": 0,
      "outputs": [
        {
          "output_type": "stream",
          "text": [
            "Epoch 1/4\n",
            "2195046/2195046 [==============================] - 50s 23us/step - loss: 0.0401 - accuracy: 0.9881\n",
            "Epoch 2/4\n",
            "2195046/2195046 [==============================] - 50s 23us/step - loss: 0.0317 - accuracy: 0.9903\n",
            "Epoch 3/4\n",
            "2195046/2195046 [==============================] - 50s 23us/step - loss: 0.0302 - accuracy: 0.9907\n",
            "Epoch 4/4\n",
            "2195046/2195046 [==============================] - 50s 23us/step - loss: 0.0296 - accuracy: 0.9907\n"
          ],
          "name": "stdout"
        },
        {
          "output_type": "execute_result",
          "data": {
            "text/plain": [
              "<keras.callbacks.callbacks.History at 0x7f80c4a1ec50>"
            ]
          },
          "metadata": {
            "tags": []
          },
          "execution_count": 76
        }
      ]
    },
    {
      "cell_type": "code",
      "metadata": {
        "id": "IK6xxj39Arjn",
        "colab_type": "code",
        "outputId": "e72730f0-95c9-4451-9119-20fd58122d3d",
        "colab": {
          "base_uri": "https://localhost:8080/",
          "height": 51
        }
      },
      "source": [
        "%timeit result_y = model.predict_classes(test_x[1].reshape(1,8))"
      ],
      "execution_count": 0,
      "outputs": [
        {
          "output_type": "stream",
          "text": [
            "The slowest run took 85.93 times longer than the fastest. This could mean that an intermediate result is being cached.\n",
            "1000 loops, best of 3: 658 µs per loop\n"
          ],
          "name": "stdout"
        }
      ]
    },
    {
      "cell_type": "code",
      "metadata": {
        "id": "ZJyLCVCAxRz1",
        "colab_type": "code",
        "outputId": "e7dd47c8-bb72-426d-eac0-8abb7f411f45",
        "colab": {
          "base_uri": "https://localhost:8080/",
          "height": 34
        }
      },
      "source": [
        "model.predict_proba(test_x[90].reshape(1,8))"
      ],
      "execution_count": 0,
      "outputs": [
        {
          "output_type": "execute_result",
          "data": {
            "text/plain": [
              "array([[1.]], dtype=float32)"
            ]
          },
          "metadata": {
            "tags": []
          },
          "execution_count": 78
        }
      ]
    },
    {
      "cell_type": "code",
      "metadata": {
        "id": "oQ_1Uq8PYZXZ",
        "colab_type": "code",
        "colab": {}
      },
      "source": [
        "result_yt = model.predict_proba(test_x)"
      ],
      "execution_count": 0,
      "outputs": []
    },
    {
      "cell_type": "code",
      "metadata": {
        "id": "k34QTjtuIu1m",
        "colab_type": "code",
        "outputId": "5f04c4aa-af32-4704-a5b9-ba911a7741ff",
        "colab": {
          "base_uri": "https://localhost:8080/",
          "height": 136
        }
      },
      "source": [
        "result_yt"
      ],
      "execution_count": 0,
      "outputs": [
        {
          "output_type": "execute_result",
          "data": {
            "text/plain": [
              "array([[3.9875805e-03],\n",
              "       [5.4514408e-04],\n",
              "       [2.2459388e-02],\n",
              "       ...,\n",
              "       [1.0000000e+00],\n",
              "       [1.0000000e+00],\n",
              "       [4.4213738e-07]], dtype=float32)"
            ]
          },
          "metadata": {
            "tags": []
          },
          "execution_count": 80
        }
      ]
    },
    {
      "cell_type": "code",
      "metadata": {
        "id": "TYof2ul2YziB",
        "colab_type": "code",
        "outputId": "b3c30300-5661-4b70-99ad-fa293539d90b",
        "colab": {
          "base_uri": "https://localhost:8080/",
          "height": 136
        }
      },
      "source": [
        "result_yta = np.where(result_yt >= 0.5,1,0)\n",
        "result_yta"
      ],
      "execution_count": 0,
      "outputs": [
        {
          "output_type": "execute_result",
          "data": {
            "text/plain": [
              "array([[0],\n",
              "       [0],\n",
              "       [0],\n",
              "       ...,\n",
              "       [1],\n",
              "       [1],\n",
              "       [0]])"
            ]
          },
          "metadata": {
            "tags": []
          },
          "execution_count": 81
        }
      ]
    },
    {
      "cell_type": "code",
      "metadata": {
        "id": "dR3XJ5hFArjt",
        "colab_type": "code",
        "outputId": "750a0752-ba13-4c08-c9e5-72df3f2efecb",
        "colab": {
          "base_uri": "https://localhost:8080/",
          "height": 68
        }
      },
      "source": [
        "from sklearn import metrics\n",
        "ACR= metrics.accuracy_score(test_y,result_yta)\n",
        "PRC= metrics.precision_score(test_y,result_yta)\n",
        "RCL= metrics.recall_score(test_y,result_yta)\n",
        "print('Accuracy = ' + \"{:.4f}\".format(ACR))\n",
        "print('Precision = ' + \"{:.4f}\".format(PRC))\n",
        "print('Recall = ' + \"{:.4f}\".format(RCL))\n",
        "cm=metrics.confusion_matrix(test_y,result_yta)"
      ],
      "execution_count": 0,
      "outputs": [
        {
          "output_type": "stream",
          "text": [
            "Accuracy = 0.9906\n",
            "Precision = 0.9945\n",
            "Recall = 0.9866\n"
          ],
          "name": "stdout"
        }
      ]
    },
    {
      "cell_type": "code",
      "metadata": {
        "id": "IagdAc_dArjw",
        "colab_type": "code",
        "outputId": "2f0f2b5e-2fbb-4803-ad01-eccd24f30c73",
        "colab": {
          "base_uri": "https://localhost:8080/",
          "height": 51
        }
      },
      "source": [
        "cm"
      ],
      "execution_count": 0,
      "outputs": [
        {
          "output_type": "execute_result",
          "data": {
            "text/plain": [
              "array([[364696,   1995],\n",
              "       [  4895, 360096]])"
            ]
          },
          "metadata": {
            "tags": []
          },
          "execution_count": 83
        }
      ]
    },
    {
      "cell_type": "code",
      "metadata": {
        "id": "pX-G6sO3GMzX",
        "colab_type": "code",
        "outputId": "e5611c09-64df-4e33-d678-97f6f296dd71",
        "colab": {
          "base_uri": "https://localhost:8080/",
          "height": 85
        }
      },
      "source": [
        "sumTest = np.sum(test_y==0),np.sum(test_y==1)\n",
        "sumTrain = np.sum(train_y==0),np.sum(train_y==1)\n",
        "print(*sumTrain)\n",
        "print(sum(sumTrain))\n",
        "print(*sumTest)\n",
        "print(sum(sumTest))"
      ],
      "execution_count": 0,
      "outputs": [
        {
          "output_type": "stream",
          "text": [
            "9237903 9236092\n",
            "18473995\n",
            "3078094 3079905\n",
            "6157999\n"
          ],
          "name": "stdout"
        }
      ]
    },
    {
      "cell_type": "code",
      "metadata": {
        "id": "XXKaYH6nNN--",
        "colab_type": "code",
        "colab": {}
      },
      "source": [
        ""
      ],
      "execution_count": 0,
      "outputs": []
    },
    {
      "cell_type": "code",
      "metadata": {
        "id": "eWoS6Td1Arj3",
        "colab_type": "code",
        "outputId": "6e6f2b11-b5cb-4c55-837a-44a64e361341",
        "colab": {
          "base_uri": "https://localhost:8080/",
          "height": 211
        }
      },
      "source": [
        "plt.figure(figsize=(4,3))\n",
        "cmplot = sns.heatmap(cm, annot=True,fmt=\"d\")"
      ],
      "execution_count": 0,
      "outputs": [
        {
          "output_type": "display_data",
          "data": {
            "image/png": "[encoded data removed]",
            "text/plain": [
              "<Figure size 288x216 with 2 Axes>"
            ]
          },
          "metadata": {
            "tags": [],
            "needs_background": "light"
          }
        }
      ]
    },
    {
      "cell_type": "code",
      "metadata": {
        "id": "rWlyHuWKHhVQ",
        "colab_type": "code",
        "outputId": "c0f10ff5-3009-4ea2-f01d-23289d2debc1",
        "colab": {
          "base_uri": "https://localhost:8080/",
          "height": 34
        }
      },
      "source": [
        "import joblib\n",
        "joblib.dump(scaler, 'minmax_Keras_TcpF1-8F.jlb') "
      ],
      "execution_count": 0,
      "outputs": [
        {
          "output_type": "execute_result",
          "data": {
            "text/plain": [
              "['minmax_Keras_TcpF1-8F.jlb']"
            ]
          },
          "metadata": {
            "tags": []
          },
          "execution_count": 30
        }
      ]
    },
    {
      "cell_type": "code",
      "metadata": {
        "id": "vpoXUW73K-bV",
        "colab_type": "code",
        "outputId": "c74549f0-de04-4e08-834c-069104cda121",
        "colab": {
          "base_uri": "https://localhost:8080/",
          "height": 459
        }
      },
      "source": [
        "model.summary()\n"
      ],
      "execution_count": 0,
      "outputs": [
        {
          "output_type": "stream",
          "text": [
            "Model: \"sequential_1\"\n",
            "_________________________________________________________________\n",
            "Layer (type)                 Output Shape              Param #   \n",
            "=================================================================\n",
            "dense_1 (Dense)              (None, 10)                110       \n",
            "_________________________________________________________________\n",
            "dense_2 (Dense)              (None, 30)                330       \n",
            "_________________________________________________________________\n",
            "dense_3 (Dense)              (None, 40)                1240      \n",
            "_________________________________________________________________\n",
            "dense_4 (Dense)              (None, 50)                2050      \n",
            "_________________________________________________________________\n",
            "dense_5 (Dense)              (None, 60)                3060      \n",
            "_________________________________________________________________\n",
            "dense_6 (Dense)              (None, 70)                4270      \n",
            "_________________________________________________________________\n",
            "dense_7 (Dense)              (None, 80)                5680      \n",
            "_________________________________________________________________\n",
            "dense_8 (Dense)              (None, 90)                7290      \n",
            "_________________________________________________________________\n",
            "dense_9 (Dense)              (None, 1)                 91        \n",
            "=================================================================\n",
            "Total params: 24,121\n",
            "Trainable params: 24,121\n",
            "Non-trainable params: 0\n",
            "_________________________________________________________________\n"
          ],
          "name": "stdout"
        }
      ]
    },
    {
      "cell_type": "code",
      "metadata": {
        "id": "zvv6Iy_NlOX_",
        "colab_type": "code",
        "colab": {}
      },
      "source": [
        "#ROC\n",
        "from sklearn.metrics import roc_curve,auc\n",
        "yp = result_yt.ravel()\n",
        "fpr_keras, tpr_keras, thresholds_keras = roc_curve(test_y, yp)\n",
        "from sklearn.metrics import auc\n",
        "auc_keras = auc(fpr_keras, tpr_keras)"
      ],
      "execution_count": 0,
      "outputs": []
    },
    {
      "cell_type": "code",
      "metadata": {
        "id": "1WmRW9l3mB-E",
        "colab_type": "code",
        "outputId": "bb5657e1-a091-4cb0-d5cb-b6632d8acfa1",
        "colab": {
          "base_uri": "https://localhost:8080/",
          "height": 305
        }
      },
      "source": [
        "plt.plot(fpr_keras,tpr_keras, color='red')\n",
        "plt.title('Receiver Operating Characteristic Curve', size=20)\n",
        "plt.plot([0, 1], [0, 1], color='green', linestyle=':')\n",
        "plt.xlabel('False Positive Rate', size=15)\n",
        "plt.ylabel('True Positive Rate', size=15)\n",
        "plt.show()\n"
      ],
      "execution_count": 0,
      "outputs": [
        {
          "output_type": "display_data",
          "data": {
            "image/png": "[encoded data removed]",
            "text/plain": [
              "<Figure size 432x288 with 1 Axes>"
            ]
          },
          "metadata": {
            "tags": [],
            "needs_background": "light"
          }
        }
      ]
    },
    {
      "cell_type": "code",
      "metadata": {
        "id": "FQqgBhh6ZDyU",
        "colab_type": "code",
        "colab": {}
      },
      "source": [
        "model.save('TCP_Keras_8F_9L.h5')"
      ],
      "execution_count": 0,
      "outputs": []
    }
  ]
}